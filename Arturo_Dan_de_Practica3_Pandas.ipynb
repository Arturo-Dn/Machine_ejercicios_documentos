{
  "nbformat": 4,
  "nbformat_minor": 0,
  "metadata": {
    "colab": {
      "name": "Arturo_Dan de Practica3_Pandas.ipynb",
      "provenance": [],
      "collapsed_sections": [],
      "include_colab_link": true
    },
    "kernelspec": {
      "display_name": "Python 3",
      "language": "python",
      "name": "python3"
    },
    "language_info": {
      "codemirror_mode": {
        "name": "ipython",
        "version": 3
      },
      "file_extension": ".py",
      "mimetype": "text/x-python",
      "name": "python",
      "nbconvert_exporter": "python",
      "pygments_lexer": "ipython3",
      "version": "3.7.6"
    },
    "accelerator": "GPU"
  },
  "cells": [
    {
      "cell_type": "markdown",
      "metadata": {
        "id": "view-in-github",
        "colab_type": "text"
      },
      "source": [
        "<a href=\"https://colab.research.google.com/github/Arturo-Dn/Machine_ejercicios_documentos/blob/main/Arturo_Dan_de_Practica3_Pandas.ipynb\" target=\"_parent\"><img src=\"https://colab.research.google.com/assets/colab-badge.svg\" alt=\"Open In Colab\"/></a>"
      ]
    },
    {
      "cell_type": "markdown",
      "metadata": {
        "id": "U27yy_exrI8z"
      },
      "source": [
        "# Analizando las estadísticas de jugadores de futbol con Pandas\n",
        "\n",
        "![FIFA](https://upload.wikimedia.org/wikipedia/commons/thumb/a/aa/FIFA_logo_without_slogan.svg/1200px-FIFA_logo_without_slogan.svg.png)\n",
        "\n",
        "En esta notebook, utilizarás Pandas para analizar datos de jugadores de futbol (soccer). Los datos se encuentran en forma tabular e incluyen información relevante de jugadores de futbol de todo el mundo.\n",
        "\n",
        "---\n",
        "\n",
        "\n",
        "Cada fila en el conjunto de datos contiene información sobre el jugador:\n",
        "* Información personal: Nombre, nacionalidad, , edad, altura, peso y pierna preferida al jugar.\n",
        "* Información como jugador: Nombre del equipo en el que juega (Club), número de playera, posición en el campo (abreviada), valor comercial y salario.\n",
        "* Información sobre sus habilidades como jugador (0-100): Overall, Potential, Shooting, Defense, Passing, Physical, Control, Mental y GoalKeeping.\n",
        "\n",
        "\n",
        "Durante la notebook llevarás a cabo tareas de tratamiento y análisis exploratorio de datos comunmente realizadas. Buscarás información que podría resultar útil para las organizaciones.\n",
        "\n",
        "\n",
        "\n",
        "---\n",
        "Recuerda que puedes acudir a la [documentación de Pandas](https://pandas.pydata.org/pandas-docs/stable/reference/index.html) o a la notebook de Pandas.\n",
        "\n"
      ]
    },
    {
      "cell_type": "markdown",
      "metadata": {
        "id": "YK63u5jI9TkW"
      },
      "source": [
        "Primero, importa Pandas en tu notebook:"
      ]
    },
    {
      "cell_type": "code",
      "metadata": {
        "id": "3N4heqrqrFiv"
      },
      "source": [
        "# pandas usando el alias pd\n",
        "import pandas as pd"
      ],
      "execution_count": 6,
      "outputs": []
    },
    {
      "cell_type": "markdown",
      "metadata": {
        "id": "iWSmUVFgrJxA"
      },
      "source": [
        "Ejecuta la siguiente celda para cargar el conjunto de datos desde el repositorio en github a la máquina en colab."
      ]
    },
    {
      "cell_type": "code",
      "metadata": {
        "colab": {
          "base_uri": "https://localhost:8080/"
        },
        "id": "4touD7BqrOmJ",
        "outputId": "9415ec22-2e44-4d4a-a4e0-f21758816799"
      },
      "source": [
        "# Fetch the dataset using the raw GitHub URL.\n",
        "!curl --remote-name \\\n",
        "     -H 'Accept: application/vnd.github.v3.raw' \\\n",
        "     --location https://raw.githubusercontent.com/MauricioRR-Tec/AprendizajeAutomatico/master/Tema_1_Introduccion/data/fifa/players.csv"
      ],
      "execution_count": 7,
      "outputs": [
        {
          "output_type": "stream",
          "name": "stdout",
          "text": [
            "  % Total    % Received % Xferd  Average Speed   Time    Time     Time  Current\n",
            "                                 Dload  Upload   Total   Spent    Left  Speed\n",
            "100 1955k  100 1955k    0     0  4345k      0 --:--:-- --:--:-- --:--:-- 4336k\n"
          ]
        }
      ]
    },
    {
      "cell_type": "markdown",
      "metadata": {
        "id": "p5y0gMcxsRzY"
      },
      "source": [
        "Veamos las primeras líneas del archivo usando un comando de linux en la celda de colab:"
      ]
    },
    {
      "cell_type": "code",
      "metadata": {
        "colab": {
          "base_uri": "https://localhost:8080/"
        },
        "id": "-9y9q8fxsSCl",
        "outputId": "c107b2b3-3bae-4124-cbb5-4f7f2f36d3e3"
      },
      "source": [
        "!head -n 5 players.csv"
      ],
      "execution_count": 8,
      "outputs": [
        {
          "output_type": "stream",
          "name": "stdout",
          "text": [
            "ID,Name,Nationality,Club,Jersey Number,Value,Wage,Age,Height,Weight,Preferred Foot,Position,Overall,Potential,Shooting,Defense,Passing,Physical,Control,Mental,GoalKeeping\n",
            "158023,L. Messi,Argentina,FC Barcelona,10.0,€110.5M,€565K,31,5'7,159lbs,Left,RF,94,94,86,41,87,80,96,95,11\n",
            "20801,Cristiano Ronaldo,Portugal,Juventus,7.0,€77M,€405K,33,6'2,183lbs,Right,ST,94,94,88,41,81,86,84,91,12\n",
            "190871,Neymar Jr,Brazil,Paris Saint-Germain,10.0,€118.5M,€290K,26,5'9,150lbs,Right,LW,92,93,81,42,80,79,92,92,12\n",
            "193080,De Gea,Spain,Manchester United,1.0,€72M,€260K,27,6'4,168lbs,Right,GK,91,93,21,18,39,56,34,75,89\n"
          ]
        }
      ]
    },
    {
      "cell_type": "markdown",
      "metadata": {
        "id": "2llZPBeYr5EW"
      },
      "source": [
        "## Carga el conjunto de datos FIFA usando pandas"
      ]
    },
    {
      "cell_type": "code",
      "metadata": {
        "colab": {
          "base_uri": "https://localhost:8080/",
          "height": 324
        },
        "id": "qpE38xDqr4xX",
        "outputId": "3ceb9183-99f2-4966-a64c-612b23a88ce5"
      },
      "source": [
        "# leer el dataframe usando read_csv\n",
        "fifa_df = pd.read_csv(\"/content/players.csv\", sep=',', header=0)\n",
        "# mostrar los primeros elementos con head\n",
        "fifa_df.head()"
      ],
      "execution_count": 9,
      "outputs": [
        {
          "output_type": "execute_result",
          "data": {
            "text/html": [
              "<div>\n",
              "<style scoped>\n",
              "    .dataframe tbody tr th:only-of-type {\n",
              "        vertical-align: middle;\n",
              "    }\n",
              "\n",
              "    .dataframe tbody tr th {\n",
              "        vertical-align: top;\n",
              "    }\n",
              "\n",
              "    .dataframe thead th {\n",
              "        text-align: right;\n",
              "    }\n",
              "</style>\n",
              "<table border=\"1\" class=\"dataframe\">\n",
              "  <thead>\n",
              "    <tr style=\"text-align: right;\">\n",
              "      <th></th>\n",
              "      <th>ID</th>\n",
              "      <th>Name</th>\n",
              "      <th>Nationality</th>\n",
              "      <th>Club</th>\n",
              "      <th>Jersey Number</th>\n",
              "      <th>Value</th>\n",
              "      <th>Wage</th>\n",
              "      <th>Age</th>\n",
              "      <th>Height</th>\n",
              "      <th>Weight</th>\n",
              "      <th>Preferred Foot</th>\n",
              "      <th>Position</th>\n",
              "      <th>Overall</th>\n",
              "      <th>Potential</th>\n",
              "      <th>Shooting</th>\n",
              "      <th>Defense</th>\n",
              "      <th>Passing</th>\n",
              "      <th>Physical</th>\n",
              "      <th>Control</th>\n",
              "      <th>Mental</th>\n",
              "      <th>GoalKeeping</th>\n",
              "    </tr>\n",
              "  </thead>\n",
              "  <tbody>\n",
              "    <tr>\n",
              "      <th>0</th>\n",
              "      <td>158023</td>\n",
              "      <td>L. Messi</td>\n",
              "      <td>Argentina</td>\n",
              "      <td>FC Barcelona</td>\n",
              "      <td>10.0</td>\n",
              "      <td>€110.5M</td>\n",
              "      <td>€565K</td>\n",
              "      <td>31</td>\n",
              "      <td>5'7</td>\n",
              "      <td>159lbs</td>\n",
              "      <td>Left</td>\n",
              "      <td>RF</td>\n",
              "      <td>94</td>\n",
              "      <td>94</td>\n",
              "      <td>86.0</td>\n",
              "      <td>41.0</td>\n",
              "      <td>87.0</td>\n",
              "      <td>80.0</td>\n",
              "      <td>96.0</td>\n",
              "      <td>95.0</td>\n",
              "      <td>11.0</td>\n",
              "    </tr>\n",
              "    <tr>\n",
              "      <th>1</th>\n",
              "      <td>20801</td>\n",
              "      <td>Cristiano Ronaldo</td>\n",
              "      <td>Portugal</td>\n",
              "      <td>Juventus</td>\n",
              "      <td>7.0</td>\n",
              "      <td>€77M</td>\n",
              "      <td>€405K</td>\n",
              "      <td>33</td>\n",
              "      <td>6'2</td>\n",
              "      <td>183lbs</td>\n",
              "      <td>Right</td>\n",
              "      <td>ST</td>\n",
              "      <td>94</td>\n",
              "      <td>94</td>\n",
              "      <td>88.0</td>\n",
              "      <td>41.0</td>\n",
              "      <td>81.0</td>\n",
              "      <td>86.0</td>\n",
              "      <td>84.0</td>\n",
              "      <td>91.0</td>\n",
              "      <td>12.0</td>\n",
              "    </tr>\n",
              "    <tr>\n",
              "      <th>2</th>\n",
              "      <td>190871</td>\n",
              "      <td>Neymar Jr</td>\n",
              "      <td>Brazil</td>\n",
              "      <td>Paris Saint-Germain</td>\n",
              "      <td>10.0</td>\n",
              "      <td>€118.5M</td>\n",
              "      <td>€290K</td>\n",
              "      <td>26</td>\n",
              "      <td>5'9</td>\n",
              "      <td>150lbs</td>\n",
              "      <td>Right</td>\n",
              "      <td>LW</td>\n",
              "      <td>92</td>\n",
              "      <td>93</td>\n",
              "      <td>81.0</td>\n",
              "      <td>42.0</td>\n",
              "      <td>80.0</td>\n",
              "      <td>79.0</td>\n",
              "      <td>92.0</td>\n",
              "      <td>92.0</td>\n",
              "      <td>12.0</td>\n",
              "    </tr>\n",
              "    <tr>\n",
              "      <th>3</th>\n",
              "      <td>193080</td>\n",
              "      <td>De Gea</td>\n",
              "      <td>Spain</td>\n",
              "      <td>Manchester United</td>\n",
              "      <td>1.0</td>\n",
              "      <td>€72M</td>\n",
              "      <td>€260K</td>\n",
              "      <td>27</td>\n",
              "      <td>6'4</td>\n",
              "      <td>168lbs</td>\n",
              "      <td>Right</td>\n",
              "      <td>GK</td>\n",
              "      <td>91</td>\n",
              "      <td>93</td>\n",
              "      <td>21.0</td>\n",
              "      <td>18.0</td>\n",
              "      <td>39.0</td>\n",
              "      <td>56.0</td>\n",
              "      <td>34.0</td>\n",
              "      <td>75.0</td>\n",
              "      <td>89.0</td>\n",
              "    </tr>\n",
              "    <tr>\n",
              "      <th>4</th>\n",
              "      <td>192985</td>\n",
              "      <td>K. De Bruyne</td>\n",
              "      <td>Belgium</td>\n",
              "      <td>Manchester City</td>\n",
              "      <td>7.0</td>\n",
              "      <td>€102M</td>\n",
              "      <td>€355K</td>\n",
              "      <td>27</td>\n",
              "      <td>5'11</td>\n",
              "      <td>154lbs</td>\n",
              "      <td>Right</td>\n",
              "      <td>RCM</td>\n",
              "      <td>91</td>\n",
              "      <td>92</td>\n",
              "      <td>81.0</td>\n",
              "      <td>65.0</td>\n",
              "      <td>92.0</td>\n",
              "      <td>77.0</td>\n",
              "      <td>85.0</td>\n",
              "      <td>91.0</td>\n",
              "      <td>11.0</td>\n",
              "    </tr>\n",
              "  </tbody>\n",
              "</table>\n",
              "</div>"
            ],
            "text/plain": [
              "       ID               Name Nationality  ... Control  Mental GoalKeeping\n",
              "0  158023           L. Messi   Argentina  ...    96.0    95.0        11.0\n",
              "1   20801  Cristiano Ronaldo    Portugal  ...    84.0    91.0        12.0\n",
              "2  190871          Neymar Jr      Brazil  ...    92.0    92.0        12.0\n",
              "3  193080             De Gea       Spain  ...    34.0    75.0        89.0\n",
              "4  192985       K. De Bruyne     Belgium  ...    85.0    91.0        11.0\n",
              "\n",
              "[5 rows x 21 columns]"
            ]
          },
          "metadata": {},
          "execution_count": 9
        }
      ]
    },
    {
      "cell_type": "markdown",
      "metadata": {
        "id": "45oYL86ST8RO"
      },
      "source": [
        "## Características del dataset"
      ]
    },
    {
      "cell_type": "markdown",
      "metadata": {
        "id": "NnVgDmdSdZQk"
      },
      "source": [
        "¿Qué tipos de datos contiene nuestro dataframe?"
      ]
    },
    {
      "cell_type": "code",
      "metadata": {
        "colab": {
          "base_uri": "https://localhost:8080/"
        },
        "id": "1kzDpxYK0EvY",
        "outputId": "7e93d2cc-f52b-48a0-c9b8-7d2804550df0"
      },
      "source": [
        "for name, t in zip(fifa_df.columns, fifa_df.dtypes):\n",
        "  print(name, t)"
      ],
      "execution_count": 10,
      "outputs": [
        {
          "output_type": "stream",
          "name": "stdout",
          "text": [
            "ID int64\n",
            "Name object\n",
            "Nationality object\n",
            "Club object\n",
            "Jersey Number float64\n",
            "Value object\n",
            "Wage object\n",
            "Age int64\n",
            "Height object\n",
            "Weight object\n",
            "Preferred Foot object\n",
            "Position object\n",
            "Overall int64\n",
            "Potential int64\n",
            "Shooting float64\n",
            "Defense float64\n",
            "Passing float64\n",
            "Physical float64\n",
            "Control float64\n",
            "Mental float64\n",
            "GoalKeeping float64\n"
          ]
        }
      ]
    },
    {
      "cell_type": "markdown",
      "metadata": {
        "id": "GWsJyCIMtscZ"
      },
      "source": [
        "¿Qué tamaño tiene nuestro dataset?\n",
        "\n",
        "Utiliza el método ```shape``` para conocer el número de filas y columnas en el dataframe."
      ]
    },
    {
      "cell_type": "code",
      "metadata": {
        "id": "d3qNHHbAtxNp",
        "colab": {
          "base_uri": "https://localhost:8080/"
        },
        "outputId": "802eebe5-d0f8-4d5c-eb5d-02caf7acf0d1"
      },
      "source": [
        "m,n = fifa_df.shape# <completa>\n",
        "print(\"Filas:\", m)\n",
        "print(\"Columnas:\", n)"
      ],
      "execution_count": 11,
      "outputs": [
        {
          "output_type": "stream",
          "name": "stdout",
          "text": [
            "Filas: 18207\n",
            "Columnas: 21\n"
          ]
        }
      ]
    },
    {
      "cell_type": "code",
      "metadata": {
        "id": "yjcIL89FuA0u"
      },
      "source": [
        "assert m == 18207 and n == 21, \"Error en las dimensiones\""
      ],
      "execution_count": 12,
      "outputs": []
    },
    {
      "cell_type": "markdown",
      "metadata": {
        "id": "xk3ES367UKfQ"
      },
      "source": [
        "### Estadísticas generales del dataset.\n",
        "\n",
        "Usa ```describre()``` para mostrar las estadísticas generales de las columnas numéricas en el dataframe."
      ]
    },
    {
      "cell_type": "code",
      "metadata": {
        "id": "QKmF6WUUUKuM",
        "colab": {
          "base_uri": "https://localhost:8080/",
          "height": 295
        },
        "outputId": "97d34907-435d-4fcb-ec82-52ed2c026124"
      },
      "source": [
        "fifa_df.describe()"
      ],
      "execution_count": 13,
      "outputs": [
        {
          "output_type": "execute_result",
          "data": {
            "text/html": [
              "<div>\n",
              "<style scoped>\n",
              "    .dataframe tbody tr th:only-of-type {\n",
              "        vertical-align: middle;\n",
              "    }\n",
              "\n",
              "    .dataframe tbody tr th {\n",
              "        vertical-align: top;\n",
              "    }\n",
              "\n",
              "    .dataframe thead th {\n",
              "        text-align: right;\n",
              "    }\n",
              "</style>\n",
              "<table border=\"1\" class=\"dataframe\">\n",
              "  <thead>\n",
              "    <tr style=\"text-align: right;\">\n",
              "      <th></th>\n",
              "      <th>ID</th>\n",
              "      <th>Jersey Number</th>\n",
              "      <th>Age</th>\n",
              "      <th>Overall</th>\n",
              "      <th>Potential</th>\n",
              "      <th>Shooting</th>\n",
              "      <th>Defense</th>\n",
              "      <th>Passing</th>\n",
              "      <th>Physical</th>\n",
              "      <th>Control</th>\n",
              "      <th>Mental</th>\n",
              "      <th>GoalKeeping</th>\n",
              "    </tr>\n",
              "  </thead>\n",
              "  <tbody>\n",
              "    <tr>\n",
              "      <th>count</th>\n",
              "      <td>18207.000000</td>\n",
              "      <td>18147.000000</td>\n",
              "      <td>18207.000000</td>\n",
              "      <td>18207.000000</td>\n",
              "      <td>18207.000000</td>\n",
              "      <td>18159.000000</td>\n",
              "      <td>18159.000000</td>\n",
              "      <td>18159.000000</td>\n",
              "      <td>18159.000000</td>\n",
              "      <td>18159.000000</td>\n",
              "      <td>18159.000000</td>\n",
              "      <td>18159.000000</td>\n",
              "    </tr>\n",
              "    <tr>\n",
              "      <th>mean</th>\n",
              "      <td>214298.338606</td>\n",
              "      <td>19.546096</td>\n",
              "      <td>25.122206</td>\n",
              "      <td>66.238699</td>\n",
              "      <td>71.307299</td>\n",
              "      <td>47.736274</td>\n",
              "      <td>47.459001</td>\n",
              "      <td>53.710612</td>\n",
              "      <td>64.344512</td>\n",
              "      <td>59.236357</td>\n",
              "      <td>57.958974</td>\n",
              "      <td>16.468087</td>\n",
              "    </tr>\n",
              "    <tr>\n",
              "      <th>std</th>\n",
              "      <td>29965.244204</td>\n",
              "      <td>15.947765</td>\n",
              "      <td>4.669943</td>\n",
              "      <td>6.908930</td>\n",
              "      <td>6.136496</td>\n",
              "      <td>15.621702</td>\n",
              "      <td>17.314439</td>\n",
              "      <td>15.113052</td>\n",
              "      <td>9.839120</td>\n",
              "      <td>15.156389</td>\n",
              "      <td>9.933340</td>\n",
              "      <td>17.002775</td>\n",
              "    </tr>\n",
              "    <tr>\n",
              "      <th>min</th>\n",
              "      <td>16.000000</td>\n",
              "      <td>1.000000</td>\n",
              "      <td>16.000000</td>\n",
              "      <td>46.000000</td>\n",
              "      <td>48.000000</td>\n",
              "      <td>7.000000</td>\n",
              "      <td>7.000000</td>\n",
              "      <td>8.000000</td>\n",
              "      <td>22.000000</td>\n",
              "      <td>12.000000</td>\n",
              "      <td>25.000000</td>\n",
              "      <td>1.000000</td>\n",
              "    </tr>\n",
              "    <tr>\n",
              "      <th>25%</th>\n",
              "      <td>200315.500000</td>\n",
              "      <td>8.000000</td>\n",
              "      <td>21.000000</td>\n",
              "      <td>62.000000</td>\n",
              "      <td>67.000000</td>\n",
              "      <td>39.000000</td>\n",
              "      <td>35.000000</td>\n",
              "      <td>46.000000</td>\n",
              "      <td>60.000000</td>\n",
              "      <td>54.000000</td>\n",
              "      <td>51.000000</td>\n",
              "      <td>10.000000</td>\n",
              "    </tr>\n",
              "    <tr>\n",
              "      <th>50%</th>\n",
              "      <td>221759.000000</td>\n",
              "      <td>17.000000</td>\n",
              "      <td>25.000000</td>\n",
              "      <td>66.000000</td>\n",
              "      <td>71.000000</td>\n",
              "      <td>50.000000</td>\n",
              "      <td>52.000000</td>\n",
              "      <td>57.000000</td>\n",
              "      <td>66.000000</td>\n",
              "      <td>63.000000</td>\n",
              "      <td>58.000000</td>\n",
              "      <td>11.000000</td>\n",
              "    </tr>\n",
              "    <tr>\n",
              "      <th>75%</th>\n",
              "      <td>236529.500000</td>\n",
              "      <td>26.000000</td>\n",
              "      <td>28.000000</td>\n",
              "      <td>71.000000</td>\n",
              "      <td>75.000000</td>\n",
              "      <td>59.000000</td>\n",
              "      <td>61.000000</td>\n",
              "      <td>64.000000</td>\n",
              "      <td>71.000000</td>\n",
              "      <td>69.000000</td>\n",
              "      <td>65.000000</td>\n",
              "      <td>12.000000</td>\n",
              "    </tr>\n",
              "    <tr>\n",
              "      <th>max</th>\n",
              "      <td>246620.000000</td>\n",
              "      <td>99.000000</td>\n",
              "      <td>45.000000</td>\n",
              "      <td>94.000000</td>\n",
              "      <td>95.000000</td>\n",
              "      <td>88.000000</td>\n",
              "      <td>86.000000</td>\n",
              "      <td>92.000000</td>\n",
              "      <td>89.000000</td>\n",
              "      <td>96.000000</td>\n",
              "      <td>95.000000</td>\n",
              "      <td>89.000000</td>\n",
              "    </tr>\n",
              "  </tbody>\n",
              "</table>\n",
              "</div>"
            ],
            "text/plain": [
              "                  ID  Jersey Number  ...        Mental   GoalKeeping\n",
              "count   18207.000000   18147.000000  ...  18159.000000  18159.000000\n",
              "mean   214298.338606      19.546096  ...     57.958974     16.468087\n",
              "std     29965.244204      15.947765  ...      9.933340     17.002775\n",
              "min        16.000000       1.000000  ...     25.000000      1.000000\n",
              "25%    200315.500000       8.000000  ...     51.000000     10.000000\n",
              "50%    221759.000000      17.000000  ...     58.000000     11.000000\n",
              "75%    236529.500000      26.000000  ...     65.000000     12.000000\n",
              "max    246620.000000      99.000000  ...     95.000000     89.000000\n",
              "\n",
              "[8 rows x 12 columns]"
            ]
          },
          "metadata": {},
          "execution_count": 13
        }
      ]
    },
    {
      "cell_type": "markdown",
      "metadata": {
        "id": "M7gI3AUceQxn"
      },
      "source": [
        "## Tratamiento de datos\n"
      ]
    },
    {
      "cell_type": "markdown",
      "metadata": {
        "id": "lY9Wx2ZVjLfE"
      },
      "source": [
        "### Datos faltantes\n",
        "\n",
        "Antes de poder hacer transformaciones y operaciones en los datos, es importante identificar la posible existencia de datos faltantes. El método ```isna()``` de pandas, permite obtener un dataframe booleano que identifica entradas faltantes. \n",
        "\n",
        "Usémos ```isna()```, ```sum(axis=0)``` y ```to_frame().T``` para resumir el resultado de datos faltantes como un conteo por columnas:"
      ]
    },
    {
      "cell_type": "code",
      "metadata": {
        "id": "4V_yaO_lOKnv",
        "colab": {
          "base_uri": "https://localhost:8080/",
          "height": 97
        },
        "outputId": "3af96fe1-97ec-4067-c4f0-34f895ea6fb7"
      },
      "source": [
        "fifa_df.isna().sum(axis=0).to_frame().T"
      ],
      "execution_count": 14,
      "outputs": [
        {
          "output_type": "execute_result",
          "data": {
            "text/html": [
              "<div>\n",
              "<style scoped>\n",
              "    .dataframe tbody tr th:only-of-type {\n",
              "        vertical-align: middle;\n",
              "    }\n",
              "\n",
              "    .dataframe tbody tr th {\n",
              "        vertical-align: top;\n",
              "    }\n",
              "\n",
              "    .dataframe thead th {\n",
              "        text-align: right;\n",
              "    }\n",
              "</style>\n",
              "<table border=\"1\" class=\"dataframe\">\n",
              "  <thead>\n",
              "    <tr style=\"text-align: right;\">\n",
              "      <th></th>\n",
              "      <th>ID</th>\n",
              "      <th>Name</th>\n",
              "      <th>Nationality</th>\n",
              "      <th>Club</th>\n",
              "      <th>Jersey Number</th>\n",
              "      <th>Value</th>\n",
              "      <th>Wage</th>\n",
              "      <th>Age</th>\n",
              "      <th>Height</th>\n",
              "      <th>Weight</th>\n",
              "      <th>Preferred Foot</th>\n",
              "      <th>Position</th>\n",
              "      <th>Overall</th>\n",
              "      <th>Potential</th>\n",
              "      <th>Shooting</th>\n",
              "      <th>Defense</th>\n",
              "      <th>Passing</th>\n",
              "      <th>Physical</th>\n",
              "      <th>Control</th>\n",
              "      <th>Mental</th>\n",
              "      <th>GoalKeeping</th>\n",
              "    </tr>\n",
              "  </thead>\n",
              "  <tbody>\n",
              "    <tr>\n",
              "      <th>0</th>\n",
              "      <td>0</td>\n",
              "      <td>0</td>\n",
              "      <td>0</td>\n",
              "      <td>241</td>\n",
              "      <td>60</td>\n",
              "      <td>0</td>\n",
              "      <td>0</td>\n",
              "      <td>0</td>\n",
              "      <td>48</td>\n",
              "      <td>48</td>\n",
              "      <td>48</td>\n",
              "      <td>60</td>\n",
              "      <td>0</td>\n",
              "      <td>0</td>\n",
              "      <td>48</td>\n",
              "      <td>48</td>\n",
              "      <td>48</td>\n",
              "      <td>48</td>\n",
              "      <td>48</td>\n",
              "      <td>48</td>\n",
              "      <td>48</td>\n",
              "    </tr>\n",
              "  </tbody>\n",
              "</table>\n",
              "</div>"
            ],
            "text/plain": [
              "   ID  Name  Nationality  Club  ...  Physical  Control  Mental  GoalKeeping\n",
              "0   0     0            0   241  ...        48       48      48           48\n",
              "\n",
              "[1 rows x 21 columns]"
            ]
          },
          "metadata": {},
          "execution_count": 14
        }
      ]
    },
    {
      "cell_type": "markdown",
      "metadata": {
        "id": "sqr4xWue_fyB"
      },
      "source": [
        "Una manera de tratar con datos faltantes, es eliminar las filas que contienen uno o más datos faltantes, dejando solo registros completos.\n",
        "\n",
        "Ya que para nuestro conjunto de datos la cantidad de faltantes es mínima, podemos usar esta estrategia.\n",
        "\n",
        "Completa la siguiente celda para eliminar filas (```axis=0```) que contengan algún dato faltante (```dropna```):"
      ]
    },
    {
      "cell_type": "code",
      "metadata": {
        "id": "3mPe2ufH_RF0"
      },
      "source": [
        "t_df = fifa_df.dropna(axis=0)# <completa>"
      ],
      "execution_count": 15,
      "outputs": []
    },
    {
      "cell_type": "markdown",
      "metadata": {
        "id": "8uCtFmp1_wsC"
      },
      "source": [
        "Verifica que no hay más datos faltantes:"
      ]
    },
    {
      "cell_type": "code",
      "metadata": {
        "id": "RvgIwrck_vFw",
        "colab": {
          "base_uri": "https://localhost:8080/",
          "height": 97
        },
        "outputId": "e81e0c3a-5ed0-4fe2-851b-185babd0ff6d"
      },
      "source": [
        "empty_columns = t_df.isna().sum(axis=0).to_frame().T\n",
        "empty_columns"
      ],
      "execution_count": 16,
      "outputs": [
        {
          "output_type": "execute_result",
          "data": {
            "text/html": [
              "<div>\n",
              "<style scoped>\n",
              "    .dataframe tbody tr th:only-of-type {\n",
              "        vertical-align: middle;\n",
              "    }\n",
              "\n",
              "    .dataframe tbody tr th {\n",
              "        vertical-align: top;\n",
              "    }\n",
              "\n",
              "    .dataframe thead th {\n",
              "        text-align: right;\n",
              "    }\n",
              "</style>\n",
              "<table border=\"1\" class=\"dataframe\">\n",
              "  <thead>\n",
              "    <tr style=\"text-align: right;\">\n",
              "      <th></th>\n",
              "      <th>ID</th>\n",
              "      <th>Name</th>\n",
              "      <th>Nationality</th>\n",
              "      <th>Club</th>\n",
              "      <th>Jersey Number</th>\n",
              "      <th>Value</th>\n",
              "      <th>Wage</th>\n",
              "      <th>Age</th>\n",
              "      <th>Height</th>\n",
              "      <th>Weight</th>\n",
              "      <th>Preferred Foot</th>\n",
              "      <th>Position</th>\n",
              "      <th>Overall</th>\n",
              "      <th>Potential</th>\n",
              "      <th>Shooting</th>\n",
              "      <th>Defense</th>\n",
              "      <th>Passing</th>\n",
              "      <th>Physical</th>\n",
              "      <th>Control</th>\n",
              "      <th>Mental</th>\n",
              "      <th>GoalKeeping</th>\n",
              "    </tr>\n",
              "  </thead>\n",
              "  <tbody>\n",
              "    <tr>\n",
              "      <th>0</th>\n",
              "      <td>0</td>\n",
              "      <td>0</td>\n",
              "      <td>0</td>\n",
              "      <td>0</td>\n",
              "      <td>0</td>\n",
              "      <td>0</td>\n",
              "      <td>0</td>\n",
              "      <td>0</td>\n",
              "      <td>0</td>\n",
              "      <td>0</td>\n",
              "      <td>0</td>\n",
              "      <td>0</td>\n",
              "      <td>0</td>\n",
              "      <td>0</td>\n",
              "      <td>0</td>\n",
              "      <td>0</td>\n",
              "      <td>0</td>\n",
              "      <td>0</td>\n",
              "      <td>0</td>\n",
              "      <td>0</td>\n",
              "      <td>0</td>\n",
              "    </tr>\n",
              "  </tbody>\n",
              "</table>\n",
              "</div>"
            ],
            "text/plain": [
              "   ID  Name  Nationality  Club  ...  Physical  Control  Mental  GoalKeeping\n",
              "0   0     0            0     0  ...         0        0       0            0\n",
              "\n",
              "[1 rows x 21 columns]"
            ]
          },
          "metadata": {},
          "execution_count": 16
        }
      ]
    },
    {
      "cell_type": "code",
      "metadata": {
        "id": "mnwBq3J1-jp1"
      },
      "source": [
        "assert empty_columns.values.sum() == 0, \"Error, aun hay datos faltantes\""
      ],
      "execution_count": 17,
      "outputs": []
    },
    {
      "cell_type": "markdown",
      "metadata": {
        "id": "oiKIUMTTAvVX"
      },
      "source": [
        "Finalmente, reemplazar el dataframe original por el nuevo sin elementos faltantes."
      ]
    },
    {
      "cell_type": "code",
      "metadata": {
        "id": "0U8cSIyJAvpA"
      },
      "source": [
        "fifa_df = t_df"
      ],
      "execution_count": 18,
      "outputs": []
    },
    {
      "cell_type": "markdown",
      "metadata": {
        "id": "-JYl7aVLjHkH"
      },
      "source": [
        "### Transformaciones\n",
        "\n",
        "Las celdas fueron inferidas como tipo ```object``` por pandas. Algunas de éstas contienen datos numéricos que podrían ser útiles para el análisis. \n",
        "\n",
        "Por ejemplo, las columnas ```Wage``` y ```Value``` contienen datos sobre el salario y el valor en el mercado de cada jugador. Ambas columnas contienen el signo de la moneda (€) al inicio y al final pueden contener la abreviación de cantidades (K miles, M millones). \n",
        "\n",
        "Debemos realizar un tratamiento de datos en tales columnas para poder usarlas de manera numérica."
      ]
    },
    {
      "cell_type": "markdown",
      "metadata": {
        "id": "maMPRPAzxbqX"
      },
      "source": [
        "Primero, confirmemos que solo tenemos casos donde las cantidades terminan en K, M o sin abreviaturas. Usemos funciones de agregación.\n",
        "\n",
        "Contemos las veces que aparecen los distintos caracteres al final de los registros en la columna ```Wage```:"
      ]
    },
    {
      "cell_type": "code",
      "metadata": {
        "id": "VPojzkU5s_iJ",
        "colab": {
          "base_uri": "https://localhost:8080/",
          "height": 110
        },
        "outputId": "08ecd0f6-13e9-4448-ca32-2c2f24a02336"
      },
      "source": [
        "fifa_df[[\"Wage\"]].groupby(fifa_df.Wage.str[-1]).count()"
      ],
      "execution_count": 19,
      "outputs": [
        {
          "output_type": "execute_result",
          "data": {
            "text/html": [
              "<div>\n",
              "<style scoped>\n",
              "    .dataframe tbody tr th:only-of-type {\n",
              "        vertical-align: middle;\n",
              "    }\n",
              "\n",
              "    .dataframe tbody tr th {\n",
              "        vertical-align: top;\n",
              "    }\n",
              "\n",
              "    .dataframe thead th {\n",
              "        text-align: right;\n",
              "    }\n",
              "</style>\n",
              "<table border=\"1\" class=\"dataframe\">\n",
              "  <thead>\n",
              "    <tr style=\"text-align: right;\">\n",
              "      <th></th>\n",
              "      <th>Wage</th>\n",
              "    </tr>\n",
              "    <tr>\n",
              "      <th>Wage</th>\n",
              "      <th></th>\n",
              "    </tr>\n",
              "  </thead>\n",
              "  <tbody>\n",
              "    <tr>\n",
              "      <th>K</th>\n",
              "      <td>17918</td>\n",
              "    </tr>\n",
              "  </tbody>\n",
              "</table>\n",
              "</div>"
            ],
            "text/plain": [
              "       Wage\n",
              "Wage       \n",
              "K     17918"
            ]
          },
          "metadata": {},
          "execution_count": 19
        }
      ]
    },
    {
      "cell_type": "markdown",
      "metadata": {
        "id": "aOrZkbQru0_0"
      },
      "source": [
        "Contemos las veces que aparecen los distintos caracteres al final de los registros en la columna ```Value```:"
      ]
    },
    {
      "cell_type": "code",
      "metadata": {
        "id": "y1GjUZ4Gti1d",
        "colab": {
          "base_uri": "https://localhost:8080/",
          "height": 172
        },
        "outputId": "997318f8-4c61-4c09-8874-ce5e9d77f454"
      },
      "source": [
        "fifa_df[[\"Value\"]].groupby(fifa_df.Value.str[-1]).count()"
      ],
      "execution_count": 20,
      "outputs": [
        {
          "output_type": "execute_result",
          "data": {
            "text/html": [
              "<div>\n",
              "<style scoped>\n",
              "    .dataframe tbody tr th:only-of-type {\n",
              "        vertical-align: middle;\n",
              "    }\n",
              "\n",
              "    .dataframe tbody tr th {\n",
              "        vertical-align: top;\n",
              "    }\n",
              "\n",
              "    .dataframe thead th {\n",
              "        text-align: right;\n",
              "    }\n",
              "</style>\n",
              "<table border=\"1\" class=\"dataframe\">\n",
              "  <thead>\n",
              "    <tr style=\"text-align: right;\">\n",
              "      <th></th>\n",
              "      <th>Value</th>\n",
              "    </tr>\n",
              "    <tr>\n",
              "      <th>Value</th>\n",
              "      <th></th>\n",
              "    </tr>\n",
              "  </thead>\n",
              "  <tbody>\n",
              "    <tr>\n",
              "      <th>0</th>\n",
              "      <td>11</td>\n",
              "    </tr>\n",
              "    <tr>\n",
              "      <th>K</th>\n",
              "      <td>11060</td>\n",
              "    </tr>\n",
              "    <tr>\n",
              "      <th>M</th>\n",
              "      <td>6847</td>\n",
              "    </tr>\n",
              "  </tbody>\n",
              "</table>\n",
              "</div>"
            ],
            "text/plain": [
              "       Value\n",
              "Value       \n",
              "0         11\n",
              "K      11060\n",
              "M       6847"
            ]
          },
          "metadata": {},
          "execution_count": 20
        }
      ]
    },
    {
      "cell_type": "code",
      "metadata": {
        "id": "0Ar7f3NmeTWu"
      },
      "source": [
        "def currency_to_numeric(currency):\n",
        "  \"\"\"\n",
        "  La funcion recibe valores monetarios en un objeto de texto, los tranforma:\n",
        "  1- Elimina el simbolo de la moneda al inicio de la cadena\n",
        "  2- Extrae el caracter adicional al final de la cadena que indica el\n",
        "     multiplo de la cantidad (abreviatura). No siempre hay un simbolo.\n",
        "  3- Usa el valor para devolver la cantidad en numero (multiplica por el valor).\n",
        "  Ej: 250K pasa a 250000\n",
        "  ya que\n",
        "  1K = 1000\n",
        "  1M = 1000000\n",
        "  Sin letra solo parte numerica\n",
        "  \"\"\"\n",
        "  currency_str = \"0\"\n",
        "  # el multiplo de K o M\n",
        " #symbols_1 = {\"€\": 0, \"$\": 0}\n",
        "  symbols = {\"K\": 1000, \"M\": 1000000}\n",
        "  # Actualiza el valor de numeric con la cantidad en currency\n",
        "  numeric = 0.0\n",
        " # if \"$\" in currency:\n",
        "  #currency_str = currency.replace(\"€\", \"\")\n",
        " # elif \"€\" in currency:\n",
        "  #currency_str = currency.replace(\"$\", \"\")\n",
        "  currency_str = currency[1:]\n",
        "  if currency_str[-1] == \"K\":\n",
        "    currency_str = currency_str[:-1]\n",
        "    currency_str = currency_str + \"000\"\n",
        "  if currency_str[-1] == \"M\":\n",
        "    currency_str = currency_str[:-1]\n",
        "    currency_str = currency_str + \"000000\"\n",
        "  #print(currency_str)\n",
        "  #currency.replace(\"€\",\"\")\n",
        " # if currency_str.isdigit():\n",
        "  #  numeric = float(currency_str)\n",
        "  #else: \n",
        "   #   if len(currency_str) > 1:\n",
        "    #       numeric = float(currency_str[:-1]) * symbols.get(currency_str[-1].upper(), 1)\n",
        "    #  if \"K\" in currency_str:\n",
        "     #       numeric = float(currency_str.replace('K', '')) * 1000\n",
        "      #elif \"M\" in currency_str:\n",
        "       #     numeric = float(currency_str.replace('M', '')) * 1000000\n",
        "  # <completa>\n",
        "  numeric = float(currency_str)\n",
        "  return numeric #<completa>"
      ],
      "execution_count": 21,
      "outputs": []
    },
    {
      "cell_type": "markdown",
      "metadata": {
        "id": "fvCFRq0shNl_"
      },
      "source": [
        "Prueba tu función:"
      ]
    },
    {
      "cell_type": "code",
      "metadata": {
        "id": "LpevNclWhMBm",
        "colab": {
          "base_uri": "https://localhost:8080/"
        },
        "outputId": "20d6f5b0-bd02-4738-8bf9-c6e1935e298f"
      },
      "source": [
        "currency_to_numeric(\"$10M\")"
      ],
      "execution_count": 22,
      "outputs": [
        {
          "output_type": "execute_result",
          "data": {
            "text/plain": [
              "10000000.0"
            ]
          },
          "metadata": {},
          "execution_count": 22
        }
      ]
    },
    {
      "cell_type": "code",
      "metadata": {
        "id": "Ti7YRyBRzzuk"
      },
      "source": [
        "assert currency_to_numeric(\"$20\") == 20.0 and currency_to_numeric(\"$50K\") == 50*10.0**3 and currency_to_numeric(\"$10M\") == 10*10.0**6, \"Error\""
      ],
      "execution_count": 23,
      "outputs": []
    },
    {
      "cell_type": "markdown",
      "metadata": {
        "id": "2qhnh9vLhQSf"
      },
      "source": [
        "Cambia las columnas ```Wage``` y ```Value``` a numéricos usando ```currency_to_numeric``` elemento por elemento con ```applymap```:"
      ]
    },
    {
      "cell_type": "code",
      "metadata": {
        "colab": {
          "base_uri": "https://localhost:8080/",
          "height": 324
        },
        "id": "dmHYzlWLZiKB",
        "outputId": "f60bb32e-0722-4683-b2cb-05941f50e928"
      },
      "source": [
        "fifa_df[[\"Wage\", \"Value\"]] = fifa_df[[\"Wage\", \"Value\"]].applymap(currency_to_numeric)#<completa>\n",
        "fifa_df.head()"
      ],
      "execution_count": 24,
      "outputs": [
        {
          "output_type": "execute_result",
          "data": {
            "text/html": [
              "<div>\n",
              "<style scoped>\n",
              "    .dataframe tbody tr th:only-of-type {\n",
              "        vertical-align: middle;\n",
              "    }\n",
              "\n",
              "    .dataframe tbody tr th {\n",
              "        vertical-align: top;\n",
              "    }\n",
              "\n",
              "    .dataframe thead th {\n",
              "        text-align: right;\n",
              "    }\n",
              "</style>\n",
              "<table border=\"1\" class=\"dataframe\">\n",
              "  <thead>\n",
              "    <tr style=\"text-align: right;\">\n",
              "      <th></th>\n",
              "      <th>ID</th>\n",
              "      <th>Name</th>\n",
              "      <th>Nationality</th>\n",
              "      <th>Club</th>\n",
              "      <th>Jersey Number</th>\n",
              "      <th>Value</th>\n",
              "      <th>Wage</th>\n",
              "      <th>Age</th>\n",
              "      <th>Height</th>\n",
              "      <th>Weight</th>\n",
              "      <th>Preferred Foot</th>\n",
              "      <th>Position</th>\n",
              "      <th>Overall</th>\n",
              "      <th>Potential</th>\n",
              "      <th>Shooting</th>\n",
              "      <th>Defense</th>\n",
              "      <th>Passing</th>\n",
              "      <th>Physical</th>\n",
              "      <th>Control</th>\n",
              "      <th>Mental</th>\n",
              "      <th>GoalKeeping</th>\n",
              "    </tr>\n",
              "  </thead>\n",
              "  <tbody>\n",
              "    <tr>\n",
              "      <th>0</th>\n",
              "      <td>158023</td>\n",
              "      <td>L. Messi</td>\n",
              "      <td>Argentina</td>\n",
              "      <td>FC Barcelona</td>\n",
              "      <td>10.0</td>\n",
              "      <td>110.5</td>\n",
              "      <td>565000.0</td>\n",
              "      <td>31</td>\n",
              "      <td>5'7</td>\n",
              "      <td>159lbs</td>\n",
              "      <td>Left</td>\n",
              "      <td>RF</td>\n",
              "      <td>94</td>\n",
              "      <td>94</td>\n",
              "      <td>86.0</td>\n",
              "      <td>41.0</td>\n",
              "      <td>87.0</td>\n",
              "      <td>80.0</td>\n",
              "      <td>96.0</td>\n",
              "      <td>95.0</td>\n",
              "      <td>11.0</td>\n",
              "    </tr>\n",
              "    <tr>\n",
              "      <th>1</th>\n",
              "      <td>20801</td>\n",
              "      <td>Cristiano Ronaldo</td>\n",
              "      <td>Portugal</td>\n",
              "      <td>Juventus</td>\n",
              "      <td>7.0</td>\n",
              "      <td>77000000.0</td>\n",
              "      <td>405000.0</td>\n",
              "      <td>33</td>\n",
              "      <td>6'2</td>\n",
              "      <td>183lbs</td>\n",
              "      <td>Right</td>\n",
              "      <td>ST</td>\n",
              "      <td>94</td>\n",
              "      <td>94</td>\n",
              "      <td>88.0</td>\n",
              "      <td>41.0</td>\n",
              "      <td>81.0</td>\n",
              "      <td>86.0</td>\n",
              "      <td>84.0</td>\n",
              "      <td>91.0</td>\n",
              "      <td>12.0</td>\n",
              "    </tr>\n",
              "    <tr>\n",
              "      <th>2</th>\n",
              "      <td>190871</td>\n",
              "      <td>Neymar Jr</td>\n",
              "      <td>Brazil</td>\n",
              "      <td>Paris Saint-Germain</td>\n",
              "      <td>10.0</td>\n",
              "      <td>118.5</td>\n",
              "      <td>290000.0</td>\n",
              "      <td>26</td>\n",
              "      <td>5'9</td>\n",
              "      <td>150lbs</td>\n",
              "      <td>Right</td>\n",
              "      <td>LW</td>\n",
              "      <td>92</td>\n",
              "      <td>93</td>\n",
              "      <td>81.0</td>\n",
              "      <td>42.0</td>\n",
              "      <td>80.0</td>\n",
              "      <td>79.0</td>\n",
              "      <td>92.0</td>\n",
              "      <td>92.0</td>\n",
              "      <td>12.0</td>\n",
              "    </tr>\n",
              "    <tr>\n",
              "      <th>3</th>\n",
              "      <td>193080</td>\n",
              "      <td>De Gea</td>\n",
              "      <td>Spain</td>\n",
              "      <td>Manchester United</td>\n",
              "      <td>1.0</td>\n",
              "      <td>72000000.0</td>\n",
              "      <td>260000.0</td>\n",
              "      <td>27</td>\n",
              "      <td>6'4</td>\n",
              "      <td>168lbs</td>\n",
              "      <td>Right</td>\n",
              "      <td>GK</td>\n",
              "      <td>91</td>\n",
              "      <td>93</td>\n",
              "      <td>21.0</td>\n",
              "      <td>18.0</td>\n",
              "      <td>39.0</td>\n",
              "      <td>56.0</td>\n",
              "      <td>34.0</td>\n",
              "      <td>75.0</td>\n",
              "      <td>89.0</td>\n",
              "    </tr>\n",
              "    <tr>\n",
              "      <th>4</th>\n",
              "      <td>192985</td>\n",
              "      <td>K. De Bruyne</td>\n",
              "      <td>Belgium</td>\n",
              "      <td>Manchester City</td>\n",
              "      <td>7.0</td>\n",
              "      <td>102000000.0</td>\n",
              "      <td>355000.0</td>\n",
              "      <td>27</td>\n",
              "      <td>5'11</td>\n",
              "      <td>154lbs</td>\n",
              "      <td>Right</td>\n",
              "      <td>RCM</td>\n",
              "      <td>91</td>\n",
              "      <td>92</td>\n",
              "      <td>81.0</td>\n",
              "      <td>65.0</td>\n",
              "      <td>92.0</td>\n",
              "      <td>77.0</td>\n",
              "      <td>85.0</td>\n",
              "      <td>91.0</td>\n",
              "      <td>11.0</td>\n",
              "    </tr>\n",
              "  </tbody>\n",
              "</table>\n",
              "</div>"
            ],
            "text/plain": [
              "       ID               Name Nationality  ... Control  Mental  GoalKeeping\n",
              "0  158023           L. Messi   Argentina  ...    96.0    95.0         11.0\n",
              "1   20801  Cristiano Ronaldo    Portugal  ...    84.0    91.0         12.0\n",
              "2  190871          Neymar Jr      Brazil  ...    92.0    92.0         12.0\n",
              "3  193080             De Gea       Spain  ...    34.0    75.0         89.0\n",
              "4  192985       K. De Bruyne     Belgium  ...    85.0    91.0         11.0\n",
              "\n",
              "[5 rows x 21 columns]"
            ]
          },
          "metadata": {},
          "execution_count": 24
        }
      ]
    },
    {
      "cell_type": "markdown",
      "metadata": {
        "id": "sWhWdHIr4x7O"
      },
      "source": [
        "### Suplementando la información\n",
        "\n",
        "En el set de datos, tenemos una columna ```Position``` que indica la posición en la que el jugador se desempeña en el campo. Algo que podrás notar, es que originalmente la posición está de manera abreviada, si no conoces las abreviaturas, será complicado saber en qué posición juega cada jugador. \n",
        "\n",
        "\n",
        "Para solucionar esto, usémos otro set de datos para cambiar de abreviatura a algo más descriptivo, pero manteniendo la abreviatura.\n",
        "\n",
        "La siguiente imágen muestra las posiciónes más comunes en el campo:\n",
        "![Posiciones de juego](https://raw.githubusercontent.com/MauricioRR-Tec/Machine-Learning/master/Notebooks/images/SoccerFieldPositions.png)"
      ]
    },
    {
      "cell_type": "markdown",
      "metadata": {
        "id": "juf6Sw6i64es"
      },
      "source": [
        "Vamos a utilizar un nuevo set de datos que contiene la abreviatura de cada posición (```Abbreviation```) y su significado (```Full```).\n",
        "\n",
        "Cargemos el archivo desde github a colab con la siguiente celda:"
      ]
    },
    {
      "cell_type": "code",
      "metadata": {
        "id": "EpicEmIrAl7M",
        "colab": {
          "base_uri": "https://localhost:8080/"
        },
        "outputId": "aae1e4b9-4a7b-4a29-ad0a-de18ea0e74bb"
      },
      "source": [
        "# Fetch the dataset using the raw GitHub URL.\n",
        "!curl --remote-name \\\n",
        "     -H 'Accept: application/vnd.github.v3.raw' \\\n",
        "     --location https://raw.githubusercontent.com/MauricioRR-Tec/AprendizajeAutomatico/master/Tema_1_Introduccion/data/fifa/positions.csv"
      ],
      "execution_count": 25,
      "outputs": [
        {
          "output_type": "stream",
          "name": "stdout",
          "text": [
            "  % Total    % Received % Xferd  Average Speed   Time    Time     Time  Current\n",
            "                                 Dload  Upload   Total   Spent    Left  Speed\n",
            "100   772  100   772    0     0   2020      0 --:--:-- --:--:-- --:--:--  2020\n"
          ]
        }
      ]
    },
    {
      "cell_type": "markdown",
      "metadata": {
        "id": "_8WhqOUzBxI0"
      },
      "source": [
        "Ejecuta la siguiente celda para crear y ver el nuevo dataframe con los datos de las posiciones:"
      ]
    },
    {
      "cell_type": "code",
      "metadata": {
        "id": "fEuD-qyI4yWj",
        "colab": {
          "base_uri": "https://localhost:8080/",
          "height": 203
        },
        "outputId": "ad4ef8b6-688c-4454-ef6e-81ff5941ebb5"
      },
      "source": [
        "positions_df = pd.read_csv(\"positions.csv\", header=0, skipinitialspace=True)\n",
        "positions_df.head()"
      ],
      "execution_count": 26,
      "outputs": [
        {
          "output_type": "execute_result",
          "data": {
            "text/html": [
              "<div>\n",
              "<style scoped>\n",
              "    .dataframe tbody tr th:only-of-type {\n",
              "        vertical-align: middle;\n",
              "    }\n",
              "\n",
              "    .dataframe tbody tr th {\n",
              "        vertical-align: top;\n",
              "    }\n",
              "\n",
              "    .dataframe thead th {\n",
              "        text-align: right;\n",
              "    }\n",
              "</style>\n",
              "<table border=\"1\" class=\"dataframe\">\n",
              "  <thead>\n",
              "    <tr style=\"text-align: right;\">\n",
              "      <th></th>\n",
              "      <th>Abbreviation</th>\n",
              "      <th>Full</th>\n",
              "    </tr>\n",
              "  </thead>\n",
              "  <tbody>\n",
              "    <tr>\n",
              "      <th>0</th>\n",
              "      <td>GK</td>\n",
              "      <td>Goalkeeper</td>\n",
              "    </tr>\n",
              "    <tr>\n",
              "      <th>1</th>\n",
              "      <td>SW</td>\n",
              "      <td>Sweeper</td>\n",
              "    </tr>\n",
              "    <tr>\n",
              "      <th>2</th>\n",
              "      <td>CB</td>\n",
              "      <td>Center Back</td>\n",
              "    </tr>\n",
              "    <tr>\n",
              "      <th>3</th>\n",
              "      <td>LCB</td>\n",
              "      <td>Left Center Back</td>\n",
              "    </tr>\n",
              "    <tr>\n",
              "      <th>4</th>\n",
              "      <td>RCB</td>\n",
              "      <td>Right Center Back</td>\n",
              "    </tr>\n",
              "  </tbody>\n",
              "</table>\n",
              "</div>"
            ],
            "text/plain": [
              "  Abbreviation               Full\n",
              "0           GK         Goalkeeper\n",
              "1           SW            Sweeper\n",
              "2           CB        Center Back\n",
              "3          LCB   Left Center Back\n",
              "4          RCB  Right Center Back"
            ]
          },
          "metadata": {},
          "execution_count": 26
        }
      ]
    },
    {
      "cell_type": "markdown",
      "metadata": {
        "id": "ZC62QetW7Ier"
      },
      "source": [
        "Utiliza el nuevo dataframe para actualizar la columna ```Position``` en el dataframe de jugadores por la posición descriptiva + abreviada.\n",
        "\n",
        "Primero, debemos de *unir* ambos dataframes, ambos comparten una columna (pero tienen diferentes nombre) la posición abreviada.\n",
        "\n",
        "Utiliza un método de pandas para unir el dataframe ```fifa_df``` con ```positions_df```.\n",
        "\n",
        "*Tip: Queremos unir los datos de la **izquierda** con una sola fila de los de la derecha.*"
      ]
    },
    {
      "cell_type": "code",
      "metadata": {
        "id": "1UsLj_dY7UUG"
      },
      "source": [
        "merged_df = pd.merge(fifa_df, positions_df,how=\"left\",left_on='Position', right_on='Abbreviation')# <rellena>"
      ],
      "execution_count": 27,
      "outputs": []
    },
    {
      "cell_type": "code",
      "metadata": {
        "id": "andWs45D6jV5",
        "colab": {
          "base_uri": "https://localhost:8080/",
          "height": 341
        },
        "outputId": "948c9eec-2368-41b9-a5fd-62220b4f6aae"
      },
      "source": [
        "merged_df.head()"
      ],
      "execution_count": 28,
      "outputs": [
        {
          "output_type": "execute_result",
          "data": {
            "text/html": [
              "<div>\n",
              "<style scoped>\n",
              "    .dataframe tbody tr th:only-of-type {\n",
              "        vertical-align: middle;\n",
              "    }\n",
              "\n",
              "    .dataframe tbody tr th {\n",
              "        vertical-align: top;\n",
              "    }\n",
              "\n",
              "    .dataframe thead th {\n",
              "        text-align: right;\n",
              "    }\n",
              "</style>\n",
              "<table border=\"1\" class=\"dataframe\">\n",
              "  <thead>\n",
              "    <tr style=\"text-align: right;\">\n",
              "      <th></th>\n",
              "      <th>ID</th>\n",
              "      <th>Name</th>\n",
              "      <th>Nationality</th>\n",
              "      <th>Club</th>\n",
              "      <th>Jersey Number</th>\n",
              "      <th>Value</th>\n",
              "      <th>Wage</th>\n",
              "      <th>Age</th>\n",
              "      <th>Height</th>\n",
              "      <th>Weight</th>\n",
              "      <th>Preferred Foot</th>\n",
              "      <th>Position</th>\n",
              "      <th>Overall</th>\n",
              "      <th>Potential</th>\n",
              "      <th>Shooting</th>\n",
              "      <th>Defense</th>\n",
              "      <th>Passing</th>\n",
              "      <th>Physical</th>\n",
              "      <th>Control</th>\n",
              "      <th>Mental</th>\n",
              "      <th>GoalKeeping</th>\n",
              "      <th>Abbreviation</th>\n",
              "      <th>Full</th>\n",
              "    </tr>\n",
              "  </thead>\n",
              "  <tbody>\n",
              "    <tr>\n",
              "      <th>0</th>\n",
              "      <td>158023</td>\n",
              "      <td>L. Messi</td>\n",
              "      <td>Argentina</td>\n",
              "      <td>FC Barcelona</td>\n",
              "      <td>10.0</td>\n",
              "      <td>110.5</td>\n",
              "      <td>565000.0</td>\n",
              "      <td>31</td>\n",
              "      <td>5'7</td>\n",
              "      <td>159lbs</td>\n",
              "      <td>Left</td>\n",
              "      <td>RF</td>\n",
              "      <td>94</td>\n",
              "      <td>94</td>\n",
              "      <td>86.0</td>\n",
              "      <td>41.0</td>\n",
              "      <td>87.0</td>\n",
              "      <td>80.0</td>\n",
              "      <td>96.0</td>\n",
              "      <td>95.0</td>\n",
              "      <td>11.0</td>\n",
              "      <td>RF</td>\n",
              "      <td>Right Forward</td>\n",
              "    </tr>\n",
              "    <tr>\n",
              "      <th>1</th>\n",
              "      <td>20801</td>\n",
              "      <td>Cristiano Ronaldo</td>\n",
              "      <td>Portugal</td>\n",
              "      <td>Juventus</td>\n",
              "      <td>7.0</td>\n",
              "      <td>77000000.0</td>\n",
              "      <td>405000.0</td>\n",
              "      <td>33</td>\n",
              "      <td>6'2</td>\n",
              "      <td>183lbs</td>\n",
              "      <td>Right</td>\n",
              "      <td>ST</td>\n",
              "      <td>94</td>\n",
              "      <td>94</td>\n",
              "      <td>88.0</td>\n",
              "      <td>41.0</td>\n",
              "      <td>81.0</td>\n",
              "      <td>86.0</td>\n",
              "      <td>84.0</td>\n",
              "      <td>91.0</td>\n",
              "      <td>12.0</td>\n",
              "      <td>ST</td>\n",
              "      <td>Striker</td>\n",
              "    </tr>\n",
              "    <tr>\n",
              "      <th>2</th>\n",
              "      <td>190871</td>\n",
              "      <td>Neymar Jr</td>\n",
              "      <td>Brazil</td>\n",
              "      <td>Paris Saint-Germain</td>\n",
              "      <td>10.0</td>\n",
              "      <td>118.5</td>\n",
              "      <td>290000.0</td>\n",
              "      <td>26</td>\n",
              "      <td>5'9</td>\n",
              "      <td>150lbs</td>\n",
              "      <td>Right</td>\n",
              "      <td>LW</td>\n",
              "      <td>92</td>\n",
              "      <td>93</td>\n",
              "      <td>81.0</td>\n",
              "      <td>42.0</td>\n",
              "      <td>80.0</td>\n",
              "      <td>79.0</td>\n",
              "      <td>92.0</td>\n",
              "      <td>92.0</td>\n",
              "      <td>12.0</td>\n",
              "      <td>LW</td>\n",
              "      <td>Left Wing</td>\n",
              "    </tr>\n",
              "    <tr>\n",
              "      <th>3</th>\n",
              "      <td>193080</td>\n",
              "      <td>De Gea</td>\n",
              "      <td>Spain</td>\n",
              "      <td>Manchester United</td>\n",
              "      <td>1.0</td>\n",
              "      <td>72000000.0</td>\n",
              "      <td>260000.0</td>\n",
              "      <td>27</td>\n",
              "      <td>6'4</td>\n",
              "      <td>168lbs</td>\n",
              "      <td>Right</td>\n",
              "      <td>GK</td>\n",
              "      <td>91</td>\n",
              "      <td>93</td>\n",
              "      <td>21.0</td>\n",
              "      <td>18.0</td>\n",
              "      <td>39.0</td>\n",
              "      <td>56.0</td>\n",
              "      <td>34.0</td>\n",
              "      <td>75.0</td>\n",
              "      <td>89.0</td>\n",
              "      <td>GK</td>\n",
              "      <td>Goalkeeper</td>\n",
              "    </tr>\n",
              "    <tr>\n",
              "      <th>4</th>\n",
              "      <td>192985</td>\n",
              "      <td>K. De Bruyne</td>\n",
              "      <td>Belgium</td>\n",
              "      <td>Manchester City</td>\n",
              "      <td>7.0</td>\n",
              "      <td>102000000.0</td>\n",
              "      <td>355000.0</td>\n",
              "      <td>27</td>\n",
              "      <td>5'11</td>\n",
              "      <td>154lbs</td>\n",
              "      <td>Right</td>\n",
              "      <td>RCM</td>\n",
              "      <td>91</td>\n",
              "      <td>92</td>\n",
              "      <td>81.0</td>\n",
              "      <td>65.0</td>\n",
              "      <td>92.0</td>\n",
              "      <td>77.0</td>\n",
              "      <td>85.0</td>\n",
              "      <td>91.0</td>\n",
              "      <td>11.0</td>\n",
              "      <td>RCM</td>\n",
              "      <td>Right Center Midfield</td>\n",
              "    </tr>\n",
              "  </tbody>\n",
              "</table>\n",
              "</div>"
            ],
            "text/plain": [
              "       ID               Name  ... Abbreviation                   Full\n",
              "0  158023           L. Messi  ...           RF          Right Forward\n",
              "1   20801  Cristiano Ronaldo  ...           ST                Striker\n",
              "2  190871          Neymar Jr  ...           LW              Left Wing\n",
              "3  193080             De Gea  ...           GK             Goalkeeper\n",
              "4  192985       K. De Bruyne  ...          RCM  Right Center Midfield\n",
              "\n",
              "[5 rows x 23 columns]"
            ]
          },
          "metadata": {},
          "execution_count": 28
        }
      ]
    },
    {
      "cell_type": "code",
      "metadata": {
        "id": "AGYWwD_9C_17",
        "colab": {
          "base_uri": "https://localhost:8080/"
        },
        "outputId": "26c80b0b-8ee1-4aea-892f-812e1d53dc20"
      },
      "source": [
        "assert len(merged_df.columns) == 23, \"Error\"\n",
        "print(\"La union de ambos dataframes contiene \", len(merged_df.columns), \" columnas\")"
      ],
      "execution_count": 29,
      "outputs": [
        {
          "output_type": "stream",
          "name": "stdout",
          "text": [
            "La union de ambos dataframes contiene  23  columnas\n"
          ]
        }
      ]
    },
    {
      "cell_type": "markdown",
      "metadata": {
        "id": "WEZT4Via5wL_"
      },
      "source": [
        "Usemos la nueva columna ```Full``` para actualizar la columna ```Position``` para que contenga el significado y abreviatura de la posición:\n",
        "\n",
        "```merged_df[\"Full\"] + \" (\" + merged_df[\"Position\"] +\")\"```"
      ]
    },
    {
      "cell_type": "code",
      "metadata": {
        "id": "KVKr0Zry5wcb"
      },
      "source": [
        "merged_df[\"Position\"] = merged_df[\"Full\"] + \" (\" + merged_df[\"Position\"] +\")\" # <completa>"
      ],
      "execution_count": 30,
      "outputs": []
    },
    {
      "cell_type": "code",
      "metadata": {
        "colab": {
          "base_uri": "https://localhost:8080/",
          "height": 374
        },
        "id": "9zFDC2faT1vp",
        "outputId": "19f7765f-0eb8-4552-a39b-204b8c20c9f4"
      },
      "source": [
        "merged_df.head()"
      ],
      "execution_count": 31,
      "outputs": [
        {
          "output_type": "execute_result",
          "data": {
            "text/html": [
              "<div>\n",
              "<style scoped>\n",
              "    .dataframe tbody tr th:only-of-type {\n",
              "        vertical-align: middle;\n",
              "    }\n",
              "\n",
              "    .dataframe tbody tr th {\n",
              "        vertical-align: top;\n",
              "    }\n",
              "\n",
              "    .dataframe thead th {\n",
              "        text-align: right;\n",
              "    }\n",
              "</style>\n",
              "<table border=\"1\" class=\"dataframe\">\n",
              "  <thead>\n",
              "    <tr style=\"text-align: right;\">\n",
              "      <th></th>\n",
              "      <th>ID</th>\n",
              "      <th>Name</th>\n",
              "      <th>Nationality</th>\n",
              "      <th>Club</th>\n",
              "      <th>Jersey Number</th>\n",
              "      <th>Value</th>\n",
              "      <th>Wage</th>\n",
              "      <th>Age</th>\n",
              "      <th>Height</th>\n",
              "      <th>Weight</th>\n",
              "      <th>Preferred Foot</th>\n",
              "      <th>Position</th>\n",
              "      <th>Overall</th>\n",
              "      <th>Potential</th>\n",
              "      <th>Shooting</th>\n",
              "      <th>Defense</th>\n",
              "      <th>Passing</th>\n",
              "      <th>Physical</th>\n",
              "      <th>Control</th>\n",
              "      <th>Mental</th>\n",
              "      <th>GoalKeeping</th>\n",
              "      <th>Abbreviation</th>\n",
              "      <th>Full</th>\n",
              "    </tr>\n",
              "  </thead>\n",
              "  <tbody>\n",
              "    <tr>\n",
              "      <th>0</th>\n",
              "      <td>158023</td>\n",
              "      <td>L. Messi</td>\n",
              "      <td>Argentina</td>\n",
              "      <td>FC Barcelona</td>\n",
              "      <td>10.0</td>\n",
              "      <td>110.5</td>\n",
              "      <td>565000.0</td>\n",
              "      <td>31</td>\n",
              "      <td>5'7</td>\n",
              "      <td>159lbs</td>\n",
              "      <td>Left</td>\n",
              "      <td>Right Forward (RF)</td>\n",
              "      <td>94</td>\n",
              "      <td>94</td>\n",
              "      <td>86.0</td>\n",
              "      <td>41.0</td>\n",
              "      <td>87.0</td>\n",
              "      <td>80.0</td>\n",
              "      <td>96.0</td>\n",
              "      <td>95.0</td>\n",
              "      <td>11.0</td>\n",
              "      <td>RF</td>\n",
              "      <td>Right Forward</td>\n",
              "    </tr>\n",
              "    <tr>\n",
              "      <th>1</th>\n",
              "      <td>20801</td>\n",
              "      <td>Cristiano Ronaldo</td>\n",
              "      <td>Portugal</td>\n",
              "      <td>Juventus</td>\n",
              "      <td>7.0</td>\n",
              "      <td>77000000.0</td>\n",
              "      <td>405000.0</td>\n",
              "      <td>33</td>\n",
              "      <td>6'2</td>\n",
              "      <td>183lbs</td>\n",
              "      <td>Right</td>\n",
              "      <td>Striker (ST)</td>\n",
              "      <td>94</td>\n",
              "      <td>94</td>\n",
              "      <td>88.0</td>\n",
              "      <td>41.0</td>\n",
              "      <td>81.0</td>\n",
              "      <td>86.0</td>\n",
              "      <td>84.0</td>\n",
              "      <td>91.0</td>\n",
              "      <td>12.0</td>\n",
              "      <td>ST</td>\n",
              "      <td>Striker</td>\n",
              "    </tr>\n",
              "    <tr>\n",
              "      <th>2</th>\n",
              "      <td>190871</td>\n",
              "      <td>Neymar Jr</td>\n",
              "      <td>Brazil</td>\n",
              "      <td>Paris Saint-Germain</td>\n",
              "      <td>10.0</td>\n",
              "      <td>118.5</td>\n",
              "      <td>290000.0</td>\n",
              "      <td>26</td>\n",
              "      <td>5'9</td>\n",
              "      <td>150lbs</td>\n",
              "      <td>Right</td>\n",
              "      <td>Left Wing (LW)</td>\n",
              "      <td>92</td>\n",
              "      <td>93</td>\n",
              "      <td>81.0</td>\n",
              "      <td>42.0</td>\n",
              "      <td>80.0</td>\n",
              "      <td>79.0</td>\n",
              "      <td>92.0</td>\n",
              "      <td>92.0</td>\n",
              "      <td>12.0</td>\n",
              "      <td>LW</td>\n",
              "      <td>Left Wing</td>\n",
              "    </tr>\n",
              "    <tr>\n",
              "      <th>3</th>\n",
              "      <td>193080</td>\n",
              "      <td>De Gea</td>\n",
              "      <td>Spain</td>\n",
              "      <td>Manchester United</td>\n",
              "      <td>1.0</td>\n",
              "      <td>72000000.0</td>\n",
              "      <td>260000.0</td>\n",
              "      <td>27</td>\n",
              "      <td>6'4</td>\n",
              "      <td>168lbs</td>\n",
              "      <td>Right</td>\n",
              "      <td>Goalkeeper (GK)</td>\n",
              "      <td>91</td>\n",
              "      <td>93</td>\n",
              "      <td>21.0</td>\n",
              "      <td>18.0</td>\n",
              "      <td>39.0</td>\n",
              "      <td>56.0</td>\n",
              "      <td>34.0</td>\n",
              "      <td>75.0</td>\n",
              "      <td>89.0</td>\n",
              "      <td>GK</td>\n",
              "      <td>Goalkeeper</td>\n",
              "    </tr>\n",
              "    <tr>\n",
              "      <th>4</th>\n",
              "      <td>192985</td>\n",
              "      <td>K. De Bruyne</td>\n",
              "      <td>Belgium</td>\n",
              "      <td>Manchester City</td>\n",
              "      <td>7.0</td>\n",
              "      <td>102000000.0</td>\n",
              "      <td>355000.0</td>\n",
              "      <td>27</td>\n",
              "      <td>5'11</td>\n",
              "      <td>154lbs</td>\n",
              "      <td>Right</td>\n",
              "      <td>Right Center Midfield (RCM)</td>\n",
              "      <td>91</td>\n",
              "      <td>92</td>\n",
              "      <td>81.0</td>\n",
              "      <td>65.0</td>\n",
              "      <td>92.0</td>\n",
              "      <td>77.0</td>\n",
              "      <td>85.0</td>\n",
              "      <td>91.0</td>\n",
              "      <td>11.0</td>\n",
              "      <td>RCM</td>\n",
              "      <td>Right Center Midfield</td>\n",
              "    </tr>\n",
              "  </tbody>\n",
              "</table>\n",
              "</div>"
            ],
            "text/plain": [
              "       ID               Name  ... Abbreviation                   Full\n",
              "0  158023           L. Messi  ...           RF          Right Forward\n",
              "1   20801  Cristiano Ronaldo  ...           ST                Striker\n",
              "2  190871          Neymar Jr  ...           LW              Left Wing\n",
              "3  193080             De Gea  ...           GK             Goalkeeper\n",
              "4  192985       K. De Bruyne  ...          RCM  Right Center Midfield\n",
              "\n",
              "[5 rows x 23 columns]"
            ]
          },
          "metadata": {},
          "execution_count": 31
        }
      ]
    },
    {
      "cell_type": "markdown",
      "metadata": {
        "id": "QXnqnZK6GL9k"
      },
      "source": [
        "Muestra la columna actualizada:"
      ]
    },
    {
      "cell_type": "code",
      "metadata": {
        "id": "MpKl_59uGLcI",
        "colab": {
          "base_uri": "https://localhost:8080/"
        },
        "outputId": "47b07d11-7501-46a4-d0b9-3d0d0bbfa1d5"
      },
      "source": [
        "merged_df[\"Position\"].head(3)"
      ],
      "execution_count": 32,
      "outputs": [
        {
          "output_type": "execute_result",
          "data": {
            "text/plain": [
              "0    Right Forward (RF)\n",
              "1          Striker (ST)\n",
              "2        Left Wing (LW)\n",
              "Name: Position, dtype: object"
            ]
          },
          "metadata": {},
          "execution_count": 32
        }
      ]
    },
    {
      "cell_type": "markdown",
      "metadata": {
        "id": "xmeIYYIa5nq5"
      },
      "source": [
        "Ahora, tenemos algunas columnas adicionales que ya no son útiles.\n",
        "\n",
        "Eliminemos las columnas ```Abbreviation``` y ```Full``` del dataframe usando ```drop()```:"
      ]
    },
    {
      "cell_type": "code",
      "metadata": {
        "id": "_pAUfr7M5oU-"
      },
      "source": [
        "merged_df = merged_df.drop([\"Abbreviation\", \"Full\"], axis=1)"
      ],
      "execution_count": 33,
      "outputs": []
    },
    {
      "cell_type": "code",
      "metadata": {
        "id": "K4Qqvacs68Ri",
        "colab": {
          "base_uri": "https://localhost:8080/",
          "height": 262
        },
        "outputId": "684c13c1-fa70-4786-f9fd-3267e26c613c"
      },
      "source": [
        "merged_df.head(3)"
      ],
      "execution_count": 34,
      "outputs": [
        {
          "output_type": "execute_result",
          "data": {
            "text/html": [
              "<div>\n",
              "<style scoped>\n",
              "    .dataframe tbody tr th:only-of-type {\n",
              "        vertical-align: middle;\n",
              "    }\n",
              "\n",
              "    .dataframe tbody tr th {\n",
              "        vertical-align: top;\n",
              "    }\n",
              "\n",
              "    .dataframe thead th {\n",
              "        text-align: right;\n",
              "    }\n",
              "</style>\n",
              "<table border=\"1\" class=\"dataframe\">\n",
              "  <thead>\n",
              "    <tr style=\"text-align: right;\">\n",
              "      <th></th>\n",
              "      <th>ID</th>\n",
              "      <th>Name</th>\n",
              "      <th>Nationality</th>\n",
              "      <th>Club</th>\n",
              "      <th>Jersey Number</th>\n",
              "      <th>Value</th>\n",
              "      <th>Wage</th>\n",
              "      <th>Age</th>\n",
              "      <th>Height</th>\n",
              "      <th>Weight</th>\n",
              "      <th>Preferred Foot</th>\n",
              "      <th>Position</th>\n",
              "      <th>Overall</th>\n",
              "      <th>Potential</th>\n",
              "      <th>Shooting</th>\n",
              "      <th>Defense</th>\n",
              "      <th>Passing</th>\n",
              "      <th>Physical</th>\n",
              "      <th>Control</th>\n",
              "      <th>Mental</th>\n",
              "      <th>GoalKeeping</th>\n",
              "    </tr>\n",
              "  </thead>\n",
              "  <tbody>\n",
              "    <tr>\n",
              "      <th>0</th>\n",
              "      <td>158023</td>\n",
              "      <td>L. Messi</td>\n",
              "      <td>Argentina</td>\n",
              "      <td>FC Barcelona</td>\n",
              "      <td>10.0</td>\n",
              "      <td>110.5</td>\n",
              "      <td>565000.0</td>\n",
              "      <td>31</td>\n",
              "      <td>5'7</td>\n",
              "      <td>159lbs</td>\n",
              "      <td>Left</td>\n",
              "      <td>Right Forward (RF)</td>\n",
              "      <td>94</td>\n",
              "      <td>94</td>\n",
              "      <td>86.0</td>\n",
              "      <td>41.0</td>\n",
              "      <td>87.0</td>\n",
              "      <td>80.0</td>\n",
              "      <td>96.0</td>\n",
              "      <td>95.0</td>\n",
              "      <td>11.0</td>\n",
              "    </tr>\n",
              "    <tr>\n",
              "      <th>1</th>\n",
              "      <td>20801</td>\n",
              "      <td>Cristiano Ronaldo</td>\n",
              "      <td>Portugal</td>\n",
              "      <td>Juventus</td>\n",
              "      <td>7.0</td>\n",
              "      <td>77000000.0</td>\n",
              "      <td>405000.0</td>\n",
              "      <td>33</td>\n",
              "      <td>6'2</td>\n",
              "      <td>183lbs</td>\n",
              "      <td>Right</td>\n",
              "      <td>Striker (ST)</td>\n",
              "      <td>94</td>\n",
              "      <td>94</td>\n",
              "      <td>88.0</td>\n",
              "      <td>41.0</td>\n",
              "      <td>81.0</td>\n",
              "      <td>86.0</td>\n",
              "      <td>84.0</td>\n",
              "      <td>91.0</td>\n",
              "      <td>12.0</td>\n",
              "    </tr>\n",
              "    <tr>\n",
              "      <th>2</th>\n",
              "      <td>190871</td>\n",
              "      <td>Neymar Jr</td>\n",
              "      <td>Brazil</td>\n",
              "      <td>Paris Saint-Germain</td>\n",
              "      <td>10.0</td>\n",
              "      <td>118.5</td>\n",
              "      <td>290000.0</td>\n",
              "      <td>26</td>\n",
              "      <td>5'9</td>\n",
              "      <td>150lbs</td>\n",
              "      <td>Right</td>\n",
              "      <td>Left Wing (LW)</td>\n",
              "      <td>92</td>\n",
              "      <td>93</td>\n",
              "      <td>81.0</td>\n",
              "      <td>42.0</td>\n",
              "      <td>80.0</td>\n",
              "      <td>79.0</td>\n",
              "      <td>92.0</td>\n",
              "      <td>92.0</td>\n",
              "      <td>12.0</td>\n",
              "    </tr>\n",
              "  </tbody>\n",
              "</table>\n",
              "</div>"
            ],
            "text/plain": [
              "       ID               Name Nationality  ... Control  Mental  GoalKeeping\n",
              "0  158023           L. Messi   Argentina  ...    96.0    95.0         11.0\n",
              "1   20801  Cristiano Ronaldo    Portugal  ...    84.0    91.0         12.0\n",
              "2  190871          Neymar Jr      Brazil  ...    92.0    92.0         12.0\n",
              "\n",
              "[3 rows x 21 columns]"
            ]
          },
          "metadata": {},
          "execution_count": 34
        }
      ]
    },
    {
      "cell_type": "code",
      "metadata": {
        "id": "YII9iv1PG3Ux"
      },
      "source": [
        "assert len(merged_df.columns) == 21, \"Error\""
      ],
      "execution_count": 35,
      "outputs": []
    },
    {
      "cell_type": "markdown",
      "metadata": {
        "id": "zAUeeSXvxU6g"
      },
      "source": [
        "Asignemos al dataframe original ```fifa_df``` el nuevo dataframe con el tratamiento de datos ya realizado:"
      ]
    },
    {
      "cell_type": "code",
      "metadata": {
        "id": "mFz5iU9SxScb",
        "colab": {
          "base_uri": "https://localhost:8080/",
          "height": 374
        },
        "outputId": "cf67d8b6-129a-4396-da89-787898831c41"
      },
      "source": [
        "fifa_df = merged_df\n",
        "fifa_df.head()"
      ],
      "execution_count": 36,
      "outputs": [
        {
          "output_type": "execute_result",
          "data": {
            "text/html": [
              "<div>\n",
              "<style scoped>\n",
              "    .dataframe tbody tr th:only-of-type {\n",
              "        vertical-align: middle;\n",
              "    }\n",
              "\n",
              "    .dataframe tbody tr th {\n",
              "        vertical-align: top;\n",
              "    }\n",
              "\n",
              "    .dataframe thead th {\n",
              "        text-align: right;\n",
              "    }\n",
              "</style>\n",
              "<table border=\"1\" class=\"dataframe\">\n",
              "  <thead>\n",
              "    <tr style=\"text-align: right;\">\n",
              "      <th></th>\n",
              "      <th>ID</th>\n",
              "      <th>Name</th>\n",
              "      <th>Nationality</th>\n",
              "      <th>Club</th>\n",
              "      <th>Jersey Number</th>\n",
              "      <th>Value</th>\n",
              "      <th>Wage</th>\n",
              "      <th>Age</th>\n",
              "      <th>Height</th>\n",
              "      <th>Weight</th>\n",
              "      <th>Preferred Foot</th>\n",
              "      <th>Position</th>\n",
              "      <th>Overall</th>\n",
              "      <th>Potential</th>\n",
              "      <th>Shooting</th>\n",
              "      <th>Defense</th>\n",
              "      <th>Passing</th>\n",
              "      <th>Physical</th>\n",
              "      <th>Control</th>\n",
              "      <th>Mental</th>\n",
              "      <th>GoalKeeping</th>\n",
              "    </tr>\n",
              "  </thead>\n",
              "  <tbody>\n",
              "    <tr>\n",
              "      <th>0</th>\n",
              "      <td>158023</td>\n",
              "      <td>L. Messi</td>\n",
              "      <td>Argentina</td>\n",
              "      <td>FC Barcelona</td>\n",
              "      <td>10.0</td>\n",
              "      <td>110.5</td>\n",
              "      <td>565000.0</td>\n",
              "      <td>31</td>\n",
              "      <td>5'7</td>\n",
              "      <td>159lbs</td>\n",
              "      <td>Left</td>\n",
              "      <td>Right Forward (RF)</td>\n",
              "      <td>94</td>\n",
              "      <td>94</td>\n",
              "      <td>86.0</td>\n",
              "      <td>41.0</td>\n",
              "      <td>87.0</td>\n",
              "      <td>80.0</td>\n",
              "      <td>96.0</td>\n",
              "      <td>95.0</td>\n",
              "      <td>11.0</td>\n",
              "    </tr>\n",
              "    <tr>\n",
              "      <th>1</th>\n",
              "      <td>20801</td>\n",
              "      <td>Cristiano Ronaldo</td>\n",
              "      <td>Portugal</td>\n",
              "      <td>Juventus</td>\n",
              "      <td>7.0</td>\n",
              "      <td>77000000.0</td>\n",
              "      <td>405000.0</td>\n",
              "      <td>33</td>\n",
              "      <td>6'2</td>\n",
              "      <td>183lbs</td>\n",
              "      <td>Right</td>\n",
              "      <td>Striker (ST)</td>\n",
              "      <td>94</td>\n",
              "      <td>94</td>\n",
              "      <td>88.0</td>\n",
              "      <td>41.0</td>\n",
              "      <td>81.0</td>\n",
              "      <td>86.0</td>\n",
              "      <td>84.0</td>\n",
              "      <td>91.0</td>\n",
              "      <td>12.0</td>\n",
              "    </tr>\n",
              "    <tr>\n",
              "      <th>2</th>\n",
              "      <td>190871</td>\n",
              "      <td>Neymar Jr</td>\n",
              "      <td>Brazil</td>\n",
              "      <td>Paris Saint-Germain</td>\n",
              "      <td>10.0</td>\n",
              "      <td>118.5</td>\n",
              "      <td>290000.0</td>\n",
              "      <td>26</td>\n",
              "      <td>5'9</td>\n",
              "      <td>150lbs</td>\n",
              "      <td>Right</td>\n",
              "      <td>Left Wing (LW)</td>\n",
              "      <td>92</td>\n",
              "      <td>93</td>\n",
              "      <td>81.0</td>\n",
              "      <td>42.0</td>\n",
              "      <td>80.0</td>\n",
              "      <td>79.0</td>\n",
              "      <td>92.0</td>\n",
              "      <td>92.0</td>\n",
              "      <td>12.0</td>\n",
              "    </tr>\n",
              "    <tr>\n",
              "      <th>3</th>\n",
              "      <td>193080</td>\n",
              "      <td>De Gea</td>\n",
              "      <td>Spain</td>\n",
              "      <td>Manchester United</td>\n",
              "      <td>1.0</td>\n",
              "      <td>72000000.0</td>\n",
              "      <td>260000.0</td>\n",
              "      <td>27</td>\n",
              "      <td>6'4</td>\n",
              "      <td>168lbs</td>\n",
              "      <td>Right</td>\n",
              "      <td>Goalkeeper (GK)</td>\n",
              "      <td>91</td>\n",
              "      <td>93</td>\n",
              "      <td>21.0</td>\n",
              "      <td>18.0</td>\n",
              "      <td>39.0</td>\n",
              "      <td>56.0</td>\n",
              "      <td>34.0</td>\n",
              "      <td>75.0</td>\n",
              "      <td>89.0</td>\n",
              "    </tr>\n",
              "    <tr>\n",
              "      <th>4</th>\n",
              "      <td>192985</td>\n",
              "      <td>K. De Bruyne</td>\n",
              "      <td>Belgium</td>\n",
              "      <td>Manchester City</td>\n",
              "      <td>7.0</td>\n",
              "      <td>102000000.0</td>\n",
              "      <td>355000.0</td>\n",
              "      <td>27</td>\n",
              "      <td>5'11</td>\n",
              "      <td>154lbs</td>\n",
              "      <td>Right</td>\n",
              "      <td>Right Center Midfield (RCM)</td>\n",
              "      <td>91</td>\n",
              "      <td>92</td>\n",
              "      <td>81.0</td>\n",
              "      <td>65.0</td>\n",
              "      <td>92.0</td>\n",
              "      <td>77.0</td>\n",
              "      <td>85.0</td>\n",
              "      <td>91.0</td>\n",
              "      <td>11.0</td>\n",
              "    </tr>\n",
              "  </tbody>\n",
              "</table>\n",
              "</div>"
            ],
            "text/plain": [
              "       ID               Name Nationality  ... Control  Mental  GoalKeeping\n",
              "0  158023           L. Messi   Argentina  ...    96.0    95.0         11.0\n",
              "1   20801  Cristiano Ronaldo    Portugal  ...    84.0    91.0         12.0\n",
              "2  190871          Neymar Jr      Brazil  ...    92.0    92.0         12.0\n",
              "3  193080             De Gea       Spain  ...    34.0    75.0         89.0\n",
              "4  192985       K. De Bruyne     Belgium  ...    85.0    91.0         11.0\n",
              "\n",
              "[5 rows x 21 columns]"
            ]
          },
          "metadata": {},
          "execution_count": 36
        }
      ]
    },
    {
      "cell_type": "markdown",
      "metadata": {
        "id": "11welP4cjgmM"
      },
      "source": [
        "## Análisis exploratorio\n",
        "\n",
        "En esta sección, utilizarás distintos métodos de los dataframes de pandas para generar un análisis exploratorio. En un análisis exploratorio, se busca explorar, resumir y entender los datos."
      ]
    },
    {
      "cell_type": "markdown",
      "metadata": {
        "id": "KDx_7ASLlnL7"
      },
      "source": [
        "### Jugadores con el mayor valor comercial y jugadores mejores pagados"
      ]
    },
    {
      "cell_type": "markdown",
      "metadata": {
        "id": "Ms3vFmAo15eW"
      },
      "source": [
        "Muestra el **Top 3** de jugadores con mayor valor (```Value```) en el mercado."
      ]
    },
    {
      "cell_type": "code",
      "metadata": {
        "id": "XJAgwUc2J9y8",
        "colab": {
          "base_uri": "https://localhost:8080/",
          "height": 296
        },
        "outputId": "131d9b42-c15e-45d9-85ce-fa644f1cdff7"
      },
      "source": [
        "\n",
        "fifa_df.nlargest(3,\"Value\",keep='first')# <completa>"
      ],
      "execution_count": 37,
      "outputs": [
        {
          "output_type": "execute_result",
          "data": {
            "text/html": [
              "<div>\n",
              "<style scoped>\n",
              "    .dataframe tbody tr th:only-of-type {\n",
              "        vertical-align: middle;\n",
              "    }\n",
              "\n",
              "    .dataframe tbody tr th {\n",
              "        vertical-align: top;\n",
              "    }\n",
              "\n",
              "    .dataframe thead th {\n",
              "        text-align: right;\n",
              "    }\n",
              "</style>\n",
              "<table border=\"1\" class=\"dataframe\">\n",
              "  <thead>\n",
              "    <tr style=\"text-align: right;\">\n",
              "      <th></th>\n",
              "      <th>ID</th>\n",
              "      <th>Name</th>\n",
              "      <th>Nationality</th>\n",
              "      <th>Club</th>\n",
              "      <th>Jersey Number</th>\n",
              "      <th>Value</th>\n",
              "      <th>Wage</th>\n",
              "      <th>Age</th>\n",
              "      <th>Height</th>\n",
              "      <th>Weight</th>\n",
              "      <th>Preferred Foot</th>\n",
              "      <th>Position</th>\n",
              "      <th>Overall</th>\n",
              "      <th>Potential</th>\n",
              "      <th>Shooting</th>\n",
              "      <th>Defense</th>\n",
              "      <th>Passing</th>\n",
              "      <th>Physical</th>\n",
              "      <th>Control</th>\n",
              "      <th>Mental</th>\n",
              "      <th>GoalKeeping</th>\n",
              "    </tr>\n",
              "  </thead>\n",
              "  <tbody>\n",
              "    <tr>\n",
              "      <th>4</th>\n",
              "      <td>192985</td>\n",
              "      <td>K. De Bruyne</td>\n",
              "      <td>Belgium</td>\n",
              "      <td>Manchester City</td>\n",
              "      <td>7.0</td>\n",
              "      <td>102000000.0</td>\n",
              "      <td>355000.0</td>\n",
              "      <td>27</td>\n",
              "      <td>5'11</td>\n",
              "      <td>154lbs</td>\n",
              "      <td>Right</td>\n",
              "      <td>Right Center Midfield (RCM)</td>\n",
              "      <td>91</td>\n",
              "      <td>92</td>\n",
              "      <td>81.0</td>\n",
              "      <td>65.0</td>\n",
              "      <td>92.0</td>\n",
              "      <td>77.0</td>\n",
              "      <td>85.0</td>\n",
              "      <td>91.0</td>\n",
              "      <td>11.0</td>\n",
              "    </tr>\n",
              "    <tr>\n",
              "      <th>5</th>\n",
              "      <td>183277</td>\n",
              "      <td>E. Hazard</td>\n",
              "      <td>Belgium</td>\n",
              "      <td>Chelsea</td>\n",
              "      <td>10.0</td>\n",
              "      <td>93000000.0</td>\n",
              "      <td>340000.0</td>\n",
              "      <td>27</td>\n",
              "      <td>5'8</td>\n",
              "      <td>163lbs</td>\n",
              "      <td>Right</td>\n",
              "      <td>Left Forward (LF)</td>\n",
              "      <td>91</td>\n",
              "      <td>91</td>\n",
              "      <td>79.0</td>\n",
              "      <td>42.0</td>\n",
              "      <td>84.0</td>\n",
              "      <td>82.0</td>\n",
              "      <td>94.0</td>\n",
              "      <td>90.0</td>\n",
              "      <td>9.0</td>\n",
              "    </tr>\n",
              "    <tr>\n",
              "      <th>15</th>\n",
              "      <td>211110</td>\n",
              "      <td>P. Dybala</td>\n",
              "      <td>Argentina</td>\n",
              "      <td>Juventus</td>\n",
              "      <td>21.0</td>\n",
              "      <td>89000000.0</td>\n",
              "      <td>205000.0</td>\n",
              "      <td>24</td>\n",
              "      <td>5'10</td>\n",
              "      <td>165lbs</td>\n",
              "      <td>Left</td>\n",
              "      <td>Left Forward (LF)</td>\n",
              "      <td>89</td>\n",
              "      <td>94</td>\n",
              "      <td>84.0</td>\n",
              "      <td>36.0</td>\n",
              "      <td>81.0</td>\n",
              "      <td>81.0</td>\n",
              "      <td>90.0</td>\n",
              "      <td>86.0</td>\n",
              "      <td>5.0</td>\n",
              "    </tr>\n",
              "  </tbody>\n",
              "</table>\n",
              "</div>"
            ],
            "text/plain": [
              "        ID          Name Nationality  ... Control  Mental  GoalKeeping\n",
              "4   192985  K. De Bruyne     Belgium  ...    85.0    91.0         11.0\n",
              "5   183277     E. Hazard     Belgium  ...    94.0    90.0          9.0\n",
              "15  211110     P. Dybala   Argentina  ...    90.0    86.0          5.0\n",
              "\n",
              "[3 rows x 21 columns]"
            ]
          },
          "metadata": {},
          "execution_count": 37
        }
      ]
    },
    {
      "cell_type": "markdown",
      "metadata": {
        "id": "BWtWBTdz1yix"
      },
      "source": [
        "Muestra el **Top 3** de jugadores mejores pagados en el mundo (Salarios más altos, ```Wage```)."
      ]
    },
    {
      "cell_type": "code",
      "metadata": {
        "id": "1yaixbRm1lgg",
        "colab": {
          "base_uri": "https://localhost:8080/",
          "height": 279
        },
        "outputId": "e84b6b2b-bd70-43f0-a084-f9cb478dd99f"
      },
      "source": [
        "fifa_df.nlargest(3,\"Wage\",keep='first')# <completa>"
      ],
      "execution_count": 38,
      "outputs": [
        {
          "output_type": "execute_result",
          "data": {
            "text/html": [
              "<div>\n",
              "<style scoped>\n",
              "    .dataframe tbody tr th:only-of-type {\n",
              "        vertical-align: middle;\n",
              "    }\n",
              "\n",
              "    .dataframe tbody tr th {\n",
              "        vertical-align: top;\n",
              "    }\n",
              "\n",
              "    .dataframe thead th {\n",
              "        text-align: right;\n",
              "    }\n",
              "</style>\n",
              "<table border=\"1\" class=\"dataframe\">\n",
              "  <thead>\n",
              "    <tr style=\"text-align: right;\">\n",
              "      <th></th>\n",
              "      <th>ID</th>\n",
              "      <th>Name</th>\n",
              "      <th>Nationality</th>\n",
              "      <th>Club</th>\n",
              "      <th>Jersey Number</th>\n",
              "      <th>Value</th>\n",
              "      <th>Wage</th>\n",
              "      <th>Age</th>\n",
              "      <th>Height</th>\n",
              "      <th>Weight</th>\n",
              "      <th>Preferred Foot</th>\n",
              "      <th>Position</th>\n",
              "      <th>Overall</th>\n",
              "      <th>Potential</th>\n",
              "      <th>Shooting</th>\n",
              "      <th>Defense</th>\n",
              "      <th>Passing</th>\n",
              "      <th>Physical</th>\n",
              "      <th>Control</th>\n",
              "      <th>Mental</th>\n",
              "      <th>GoalKeeping</th>\n",
              "    </tr>\n",
              "  </thead>\n",
              "  <tbody>\n",
              "    <tr>\n",
              "      <th>0</th>\n",
              "      <td>158023</td>\n",
              "      <td>L. Messi</td>\n",
              "      <td>Argentina</td>\n",
              "      <td>FC Barcelona</td>\n",
              "      <td>10.0</td>\n",
              "      <td>110.5</td>\n",
              "      <td>565000.0</td>\n",
              "      <td>31</td>\n",
              "      <td>5'7</td>\n",
              "      <td>159lbs</td>\n",
              "      <td>Left</td>\n",
              "      <td>Right Forward (RF)</td>\n",
              "      <td>94</td>\n",
              "      <td>94</td>\n",
              "      <td>86.0</td>\n",
              "      <td>41.0</td>\n",
              "      <td>87.0</td>\n",
              "      <td>80.0</td>\n",
              "      <td>96.0</td>\n",
              "      <td>95.0</td>\n",
              "      <td>11.0</td>\n",
              "    </tr>\n",
              "    <tr>\n",
              "      <th>7</th>\n",
              "      <td>176580</td>\n",
              "      <td>L. Suárez</td>\n",
              "      <td>Uruguay</td>\n",
              "      <td>FC Barcelona</td>\n",
              "      <td>9.0</td>\n",
              "      <td>80000000.0</td>\n",
              "      <td>455000.0</td>\n",
              "      <td>31</td>\n",
              "      <td>6'0</td>\n",
              "      <td>190lbs</td>\n",
              "      <td>Right</td>\n",
              "      <td>Right Side (RS)</td>\n",
              "      <td>91</td>\n",
              "      <td>91</td>\n",
              "      <td>86.0</td>\n",
              "      <td>56.0</td>\n",
              "      <td>74.0</td>\n",
              "      <td>81.0</td>\n",
              "      <td>87.0</td>\n",
              "      <td>87.0</td>\n",
              "      <td>31.0</td>\n",
              "    </tr>\n",
              "    <tr>\n",
              "      <th>6</th>\n",
              "      <td>177003</td>\n",
              "      <td>L. Modrić</td>\n",
              "      <td>Croatia</td>\n",
              "      <td>Real Madrid</td>\n",
              "      <td>10.0</td>\n",
              "      <td>67000000.0</td>\n",
              "      <td>420000.0</td>\n",
              "      <td>32</td>\n",
              "      <td>5'8</td>\n",
              "      <td>146lbs</td>\n",
              "      <td>Right</td>\n",
              "      <td>Right Center Midfield (RCM)</td>\n",
              "      <td>91</td>\n",
              "      <td>91</td>\n",
              "      <td>76.0</td>\n",
              "      <td>74.0</td>\n",
              "      <td>89.0</td>\n",
              "      <td>79.0</td>\n",
              "      <td>92.0</td>\n",
              "      <td>89.0</td>\n",
              "      <td>10.0</td>\n",
              "    </tr>\n",
              "  </tbody>\n",
              "</table>\n",
              "</div>"
            ],
            "text/plain": [
              "       ID       Name Nationality  ... Control  Mental  GoalKeeping\n",
              "0  158023   L. Messi   Argentina  ...    96.0    95.0         11.0\n",
              "7  176580  L. Suárez     Uruguay  ...    87.0    87.0         31.0\n",
              "6  177003  L. Modrić     Croatia  ...    92.0    89.0         10.0\n",
              "\n",
              "[3 rows x 21 columns]"
            ]
          },
          "metadata": {},
          "execution_count": 38
        }
      ]
    },
    {
      "cell_type": "markdown",
      "metadata": {
        "id": "cpSEn-FJjwtT"
      },
      "source": [
        "### Potencial por alcanzar\n",
        "\n",
        "Utiliza operaciones Crea una nueva columna que  muestre el potencial por alcanzar ```Potential left``` de cada jugador en el conjunto de datos. El potencial por alcanzar puede ser calculado mediante ```Potential - Overall```."
      ]
    },
    {
      "cell_type": "code",
      "metadata": {
        "id": "1fD4LDMJj14v",
        "colab": {
          "base_uri": "https://localhost:8080/",
          "height": 374
        },
        "outputId": "1ac56dca-3eb8-4746-ef06-b5fc9ec53213"
      },
      "source": [
        "fifa_df[\"Potential left\"] = fifa_df[\"Potential\"]-fifa_df[\"Overall\"] # <rellena>\n",
        "fifa_df.head()"
      ],
      "execution_count": 39,
      "outputs": [
        {
          "output_type": "execute_result",
          "data": {
            "text/html": [
              "<div>\n",
              "<style scoped>\n",
              "    .dataframe tbody tr th:only-of-type {\n",
              "        vertical-align: middle;\n",
              "    }\n",
              "\n",
              "    .dataframe tbody tr th {\n",
              "        vertical-align: top;\n",
              "    }\n",
              "\n",
              "    .dataframe thead th {\n",
              "        text-align: right;\n",
              "    }\n",
              "</style>\n",
              "<table border=\"1\" class=\"dataframe\">\n",
              "  <thead>\n",
              "    <tr style=\"text-align: right;\">\n",
              "      <th></th>\n",
              "      <th>ID</th>\n",
              "      <th>Name</th>\n",
              "      <th>Nationality</th>\n",
              "      <th>Club</th>\n",
              "      <th>Jersey Number</th>\n",
              "      <th>Value</th>\n",
              "      <th>Wage</th>\n",
              "      <th>Age</th>\n",
              "      <th>Height</th>\n",
              "      <th>Weight</th>\n",
              "      <th>Preferred Foot</th>\n",
              "      <th>Position</th>\n",
              "      <th>Overall</th>\n",
              "      <th>Potential</th>\n",
              "      <th>Shooting</th>\n",
              "      <th>Defense</th>\n",
              "      <th>Passing</th>\n",
              "      <th>Physical</th>\n",
              "      <th>Control</th>\n",
              "      <th>Mental</th>\n",
              "      <th>GoalKeeping</th>\n",
              "      <th>Potential left</th>\n",
              "    </tr>\n",
              "  </thead>\n",
              "  <tbody>\n",
              "    <tr>\n",
              "      <th>0</th>\n",
              "      <td>158023</td>\n",
              "      <td>L. Messi</td>\n",
              "      <td>Argentina</td>\n",
              "      <td>FC Barcelona</td>\n",
              "      <td>10.0</td>\n",
              "      <td>110.5</td>\n",
              "      <td>565000.0</td>\n",
              "      <td>31</td>\n",
              "      <td>5'7</td>\n",
              "      <td>159lbs</td>\n",
              "      <td>Left</td>\n",
              "      <td>Right Forward (RF)</td>\n",
              "      <td>94</td>\n",
              "      <td>94</td>\n",
              "      <td>86.0</td>\n",
              "      <td>41.0</td>\n",
              "      <td>87.0</td>\n",
              "      <td>80.0</td>\n",
              "      <td>96.0</td>\n",
              "      <td>95.0</td>\n",
              "      <td>11.0</td>\n",
              "      <td>0</td>\n",
              "    </tr>\n",
              "    <tr>\n",
              "      <th>1</th>\n",
              "      <td>20801</td>\n",
              "      <td>Cristiano Ronaldo</td>\n",
              "      <td>Portugal</td>\n",
              "      <td>Juventus</td>\n",
              "      <td>7.0</td>\n",
              "      <td>77000000.0</td>\n",
              "      <td>405000.0</td>\n",
              "      <td>33</td>\n",
              "      <td>6'2</td>\n",
              "      <td>183lbs</td>\n",
              "      <td>Right</td>\n",
              "      <td>Striker (ST)</td>\n",
              "      <td>94</td>\n",
              "      <td>94</td>\n",
              "      <td>88.0</td>\n",
              "      <td>41.0</td>\n",
              "      <td>81.0</td>\n",
              "      <td>86.0</td>\n",
              "      <td>84.0</td>\n",
              "      <td>91.0</td>\n",
              "      <td>12.0</td>\n",
              "      <td>0</td>\n",
              "    </tr>\n",
              "    <tr>\n",
              "      <th>2</th>\n",
              "      <td>190871</td>\n",
              "      <td>Neymar Jr</td>\n",
              "      <td>Brazil</td>\n",
              "      <td>Paris Saint-Germain</td>\n",
              "      <td>10.0</td>\n",
              "      <td>118.5</td>\n",
              "      <td>290000.0</td>\n",
              "      <td>26</td>\n",
              "      <td>5'9</td>\n",
              "      <td>150lbs</td>\n",
              "      <td>Right</td>\n",
              "      <td>Left Wing (LW)</td>\n",
              "      <td>92</td>\n",
              "      <td>93</td>\n",
              "      <td>81.0</td>\n",
              "      <td>42.0</td>\n",
              "      <td>80.0</td>\n",
              "      <td>79.0</td>\n",
              "      <td>92.0</td>\n",
              "      <td>92.0</td>\n",
              "      <td>12.0</td>\n",
              "      <td>1</td>\n",
              "    </tr>\n",
              "    <tr>\n",
              "      <th>3</th>\n",
              "      <td>193080</td>\n",
              "      <td>De Gea</td>\n",
              "      <td>Spain</td>\n",
              "      <td>Manchester United</td>\n",
              "      <td>1.0</td>\n",
              "      <td>72000000.0</td>\n",
              "      <td>260000.0</td>\n",
              "      <td>27</td>\n",
              "      <td>6'4</td>\n",
              "      <td>168lbs</td>\n",
              "      <td>Right</td>\n",
              "      <td>Goalkeeper (GK)</td>\n",
              "      <td>91</td>\n",
              "      <td>93</td>\n",
              "      <td>21.0</td>\n",
              "      <td>18.0</td>\n",
              "      <td>39.0</td>\n",
              "      <td>56.0</td>\n",
              "      <td>34.0</td>\n",
              "      <td>75.0</td>\n",
              "      <td>89.0</td>\n",
              "      <td>2</td>\n",
              "    </tr>\n",
              "    <tr>\n",
              "      <th>4</th>\n",
              "      <td>192985</td>\n",
              "      <td>K. De Bruyne</td>\n",
              "      <td>Belgium</td>\n",
              "      <td>Manchester City</td>\n",
              "      <td>7.0</td>\n",
              "      <td>102000000.0</td>\n",
              "      <td>355000.0</td>\n",
              "      <td>27</td>\n",
              "      <td>5'11</td>\n",
              "      <td>154lbs</td>\n",
              "      <td>Right</td>\n",
              "      <td>Right Center Midfield (RCM)</td>\n",
              "      <td>91</td>\n",
              "      <td>92</td>\n",
              "      <td>81.0</td>\n",
              "      <td>65.0</td>\n",
              "      <td>92.0</td>\n",
              "      <td>77.0</td>\n",
              "      <td>85.0</td>\n",
              "      <td>91.0</td>\n",
              "      <td>11.0</td>\n",
              "      <td>1</td>\n",
              "    </tr>\n",
              "  </tbody>\n",
              "</table>\n",
              "</div>"
            ],
            "text/plain": [
              "       ID               Name Nationality  ... Mental  GoalKeeping  Potential left\n",
              "0  158023           L. Messi   Argentina  ...   95.0         11.0               0\n",
              "1   20801  Cristiano Ronaldo    Portugal  ...   91.0         12.0               0\n",
              "2  190871          Neymar Jr      Brazil  ...   92.0         12.0               1\n",
              "3  193080             De Gea       Spain  ...   75.0         89.0               2\n",
              "4  192985       K. De Bruyne     Belgium  ...   91.0         11.0               1\n",
              "\n",
              "[5 rows x 22 columns]"
            ]
          },
          "metadata": {},
          "execution_count": 39
        }
      ]
    },
    {
      "cell_type": "markdown",
      "metadata": {
        "id": "NwYgtvlTmKnq"
      },
      "source": [
        "### Jóvenes promesa\n",
        "\n",
        "Utiliza las funciones de Pandas para encontrar el **top 5** de jugadores \"promesa\" menores de 22 años. Ordena ascendentemente el dataframe según el potencial (```Potential```), potencial por alcanzar (```Potential left```) y su nivel (```Overall ```) actual."
      ]
    },
    {
      "cell_type": "code",
      "metadata": {
        "id": "5IFX49Jern6K",
        "colab": {
          "base_uri": "https://localhost:8080/",
          "height": 341
        },
        "outputId": "17cff30b-cb29-41b6-cdd7-a3a9d06ad2ff"
      },
      "source": [
        "\n",
        "prueba_df= fifa_df[fifa_df[\"Age\"]<22].sort_values(by=[\"Potential\", \"Potential left\", \"Overall\"], ascending=False).head(5)\n",
        "prueba_df.sort_values(by=\"Potential\")"
      ],
      "execution_count": 40,
      "outputs": [
        {
          "output_type": "execute_result",
          "data": {
            "text/html": [
              "<div>\n",
              "<style scoped>\n",
              "    .dataframe tbody tr th:only-of-type {\n",
              "        vertical-align: middle;\n",
              "    }\n",
              "\n",
              "    .dataframe tbody tr th {\n",
              "        vertical-align: top;\n",
              "    }\n",
              "\n",
              "    .dataframe thead th {\n",
              "        text-align: right;\n",
              "    }\n",
              "</style>\n",
              "<table border=\"1\" class=\"dataframe\">\n",
              "  <thead>\n",
              "    <tr style=\"text-align: right;\">\n",
              "      <th></th>\n",
              "      <th>ID</th>\n",
              "      <th>Name</th>\n",
              "      <th>Nationality</th>\n",
              "      <th>Club</th>\n",
              "      <th>Jersey Number</th>\n",
              "      <th>Value</th>\n",
              "      <th>Wage</th>\n",
              "      <th>Age</th>\n",
              "      <th>Height</th>\n",
              "      <th>Weight</th>\n",
              "      <th>Preferred Foot</th>\n",
              "      <th>Position</th>\n",
              "      <th>Overall</th>\n",
              "      <th>Potential</th>\n",
              "      <th>Shooting</th>\n",
              "      <th>Defense</th>\n",
              "      <th>Passing</th>\n",
              "      <th>Physical</th>\n",
              "      <th>Control</th>\n",
              "      <th>Mental</th>\n",
              "      <th>GoalKeeping</th>\n",
              "      <th>Potential left</th>\n",
              "    </tr>\n",
              "  </thead>\n",
              "  <tbody>\n",
              "    <tr>\n",
              "      <th>1134</th>\n",
              "      <td>238794</td>\n",
              "      <td>Vinícius Júnior</td>\n",
              "      <td>Brazil</td>\n",
              "      <td>Real Madrid</td>\n",
              "      <td>28.0</td>\n",
              "      <td>17.5</td>\n",
              "      <td>66000.0</td>\n",
              "      <td>17</td>\n",
              "      <td>5'9</td>\n",
              "      <td>161lbs</td>\n",
              "      <td>Right</td>\n",
              "      <td>Left Wing (LW)</td>\n",
              "      <td>77</td>\n",
              "      <td>92</td>\n",
              "      <td>67.0</td>\n",
              "      <td>35.0</td>\n",
              "      <td>61.0</td>\n",
              "      <td>81.0</td>\n",
              "      <td>81.0</td>\n",
              "      <td>71.0</td>\n",
              "      <td>7.0</td>\n",
              "      <td>15</td>\n",
              "    </tr>\n",
              "    <tr>\n",
              "      <th>155</th>\n",
              "      <td>231443</td>\n",
              "      <td>O. Dembélé</td>\n",
              "      <td>France</td>\n",
              "      <td>FC Barcelona</td>\n",
              "      <td>11.0</td>\n",
              "      <td>40000000.0</td>\n",
              "      <td>155000.0</td>\n",
              "      <td>21</td>\n",
              "      <td>5'10</td>\n",
              "      <td>148lbs</td>\n",
              "      <td>Left</td>\n",
              "      <td>Right Wing (RW)</td>\n",
              "      <td>83</td>\n",
              "      <td>92</td>\n",
              "      <td>71.0</td>\n",
              "      <td>44.0</td>\n",
              "      <td>75.0</td>\n",
              "      <td>77.0</td>\n",
              "      <td>86.0</td>\n",
              "      <td>80.0</td>\n",
              "      <td>10.0</td>\n",
              "      <td>9</td>\n",
              "    </tr>\n",
              "    <tr>\n",
              "      <th>156</th>\n",
              "      <td>230666</td>\n",
              "      <td>Gabriel Jesus</td>\n",
              "      <td>Brazil</td>\n",
              "      <td>Manchester City</td>\n",
              "      <td>33.0</td>\n",
              "      <td>41000000.0</td>\n",
              "      <td>130000.0</td>\n",
              "      <td>21</td>\n",
              "      <td>5'9</td>\n",
              "      <td>161lbs</td>\n",
              "      <td>Right</td>\n",
              "      <td>Striker (ST)</td>\n",
              "      <td>83</td>\n",
              "      <td>92</td>\n",
              "      <td>74.0</td>\n",
              "      <td>43.0</td>\n",
              "      <td>69.0</td>\n",
              "      <td>83.0</td>\n",
              "      <td>87.0</td>\n",
              "      <td>82.0</td>\n",
              "      <td>10.0</td>\n",
              "      <td>9</td>\n",
              "    </tr>\n",
              "    <tr>\n",
              "      <th>229</th>\n",
              "      <td>230621</td>\n",
              "      <td>G. Donnarumma</td>\n",
              "      <td>Italy</td>\n",
              "      <td>Milan</td>\n",
              "      <td>22.0</td>\n",
              "      <td>29000000.0</td>\n",
              "      <td>23000.0</td>\n",
              "      <td>19</td>\n",
              "      <td>6'5</td>\n",
              "      <td>198lbs</td>\n",
              "      <td>Right</td>\n",
              "      <td>Goalkeeper (GK)</td>\n",
              "      <td>82</td>\n",
              "      <td>93</td>\n",
              "      <td>16.0</td>\n",
              "      <td>18.0</td>\n",
              "      <td>23.0</td>\n",
              "      <td>54.0</td>\n",
              "      <td>31.0</td>\n",
              "      <td>64.0</td>\n",
              "      <td>81.0</td>\n",
              "      <td>11</td>\n",
              "    </tr>\n",
              "    <tr>\n",
              "      <th>25</th>\n",
              "      <td>231747</td>\n",
              "      <td>K. Mbappé</td>\n",
              "      <td>France</td>\n",
              "      <td>Paris Saint-Germain</td>\n",
              "      <td>10.0</td>\n",
              "      <td>81000000.0</td>\n",
              "      <td>100000.0</td>\n",
              "      <td>19</td>\n",
              "      <td>5'10</td>\n",
              "      <td>161lbs</td>\n",
              "      <td>Right</td>\n",
              "      <td>Right Midfielder (RM)</td>\n",
              "      <td>88</td>\n",
              "      <td>95</td>\n",
              "      <td>76.0</td>\n",
              "      <td>45.0</td>\n",
              "      <td>77.0</td>\n",
              "      <td>85.0</td>\n",
              "      <td>88.0</td>\n",
              "      <td>85.0</td>\n",
              "      <td>8.0</td>\n",
              "      <td>7</td>\n",
              "    </tr>\n",
              "  </tbody>\n",
              "</table>\n",
              "</div>"
            ],
            "text/plain": [
              "          ID             Name Nationality  ... Mental  GoalKeeping  Potential left\n",
              "1134  238794  Vinícius Júnior      Brazil  ...   71.0          7.0              15\n",
              "155   231443       O. Dembélé      France  ...   80.0         10.0               9\n",
              "156   230666    Gabriel Jesus      Brazil  ...   82.0         10.0               9\n",
              "229   230621    G. Donnarumma       Italy  ...   64.0         81.0              11\n",
              "25    231747        K. Mbappé      France  ...   85.0          8.0               7\n",
              "\n",
              "[5 rows x 22 columns]"
            ]
          },
          "metadata": {},
          "execution_count": 40
        }
      ]
    },
    {
      "cell_type": "markdown",
      "metadata": {
        "id": "vrWYwyCwKfV2"
      },
      "source": [
        "### Mejor defensa en el mundo\n",
        "\n",
        "Encuentra al jugador con el mayor puntaje en la columna ```Defense```:\n",
        "\n",
        "*Tip: utiliza el método ```idxmax``` para encontrar la fila donde se encuentra el mejor defensa. Después usa el índice para acceder a los datos de la fila.*"
      ]
    },
    {
      "cell_type": "code",
      "metadata": {
        "id": "ZYv8MVn4Kfxg",
        "colab": {
          "base_uri": "https://localhost:8080/"
        },
        "outputId": "e4a4ccb0-a9c2-4ef1-c8ca-403d3c028a9d"
      },
      "source": [
        "idx=fifa_df[\"Defense\"].idxmax()\n",
        "fifa_df[[\"ID\",\"Name\", \"Club\", \"Defense\", \"Position\"]].iloc[idx]"
      ],
      "execution_count": 41,
      "outputs": [
        {
          "output_type": "execute_result",
          "data": {
            "text/plain": [
              "ID                                   215914\n",
              "Name                               N. Kanté\n",
              "Club                                Chelsea\n",
              "Defense                                  86\n",
              "Position    Left Defensive Midfielder (LDM)\n",
              "Name: 14, dtype: object"
            ]
          },
          "metadata": {},
          "execution_count": 41
        }
      ]
    },
    {
      "cell_type": "markdown",
      "metadata": {
        "id": "kgertLU4k6d1"
      },
      "source": [
        "### Porcentaje pie preferido\n",
        "\n",
        "Calcula el porcentaje mundial de jugadores que prefieren utilizar su pierna derecha para controlar el balón y el porcentaje que prefiere utilizar la pierna izquierda.\n",
        "\n",
        "*Tip: El método ```value_counts()``` de objetos Series podría resultarte particularmente útil para esta tarea.*"
      ]
    },
    {
      "cell_type": "code",
      "metadata": {
        "id": "sfV8mP74mIv6",
        "colab": {
          "base_uri": "https://localhost:8080/"
        },
        "outputId": "44962283-ca9b-4e05-8a85-9e6dd86fb2b5"
      },
      "source": [
        "\n",
        "df=fifa_df['Preferred Foot'].value_counts()\n",
        "df[\"Percentage for left  foot\"]=df[1]*100/df[0:2].sum()\n",
        "df[2]"
      ],
      "execution_count": 42,
      "outputs": [
        {
          "output_type": "execute_result",
          "data": {
            "text/plain": [
              "23.22803884362094"
            ]
          },
          "metadata": {},
          "execution_count": 42
        }
      ]
    },
    {
      "cell_type": "markdown",
      "metadata": {
        "id": "Bd0Gcj0YkitL"
      },
      "source": [
        "### Equipos con mayor talento promedio\n",
        "\n",
        "Utiliza funciones de agregación y de agrupamiento para obtener a los equipos con el mejor promedio de nivel (```Overall```) entre sus jugadores."
      ]
    },
    {
      "cell_type": "code",
      "metadata": {
        "id": "R2m3dzbemJSc",
        "colab": {
          "base_uri": "https://localhost:8080/",
          "height": 267
        },
        "outputId": "92ee35d8-cab5-4316-b6ca-5f647f6f45db"
      },
      "source": [
        "df=fifa_df.groupby(\"Club\").mean().sort_values(\"Overall\",ascending=False).head(5)\n",
        "df\n"
      ],
      "execution_count": 43,
      "outputs": [
        {
          "output_type": "execute_result",
          "data": {
            "text/html": [
              "<div>\n",
              "<style scoped>\n",
              "    .dataframe tbody tr th:only-of-type {\n",
              "        vertical-align: middle;\n",
              "    }\n",
              "\n",
              "    .dataframe tbody tr th {\n",
              "        vertical-align: top;\n",
              "    }\n",
              "\n",
              "    .dataframe thead th {\n",
              "        text-align: right;\n",
              "    }\n",
              "</style>\n",
              "<table border=\"1\" class=\"dataframe\">\n",
              "  <thead>\n",
              "    <tr style=\"text-align: right;\">\n",
              "      <th></th>\n",
              "      <th>ID</th>\n",
              "      <th>Jersey Number</th>\n",
              "      <th>Value</th>\n",
              "      <th>Wage</th>\n",
              "      <th>Age</th>\n",
              "      <th>Overall</th>\n",
              "      <th>Potential</th>\n",
              "      <th>Shooting</th>\n",
              "      <th>Defense</th>\n",
              "      <th>Passing</th>\n",
              "      <th>Physical</th>\n",
              "      <th>Control</th>\n",
              "      <th>Mental</th>\n",
              "      <th>GoalKeeping</th>\n",
              "      <th>Potential left</th>\n",
              "    </tr>\n",
              "    <tr>\n",
              "      <th>Club</th>\n",
              "      <th></th>\n",
              "      <th></th>\n",
              "      <th></th>\n",
              "      <th></th>\n",
              "      <th></th>\n",
              "      <th></th>\n",
              "      <th></th>\n",
              "      <th></th>\n",
              "      <th></th>\n",
              "      <th></th>\n",
              "      <th></th>\n",
              "      <th></th>\n",
              "      <th></th>\n",
              "      <th></th>\n",
              "      <th></th>\n",
              "    </tr>\n",
              "  </thead>\n",
              "  <tbody>\n",
              "    <tr>\n",
              "      <th>Juventus</th>\n",
              "      <td>187675.680000</td>\n",
              "      <td>13.720000</td>\n",
              "      <td>1.698301e+07</td>\n",
              "      <td>131680.000000</td>\n",
              "      <td>27.160000</td>\n",
              "      <td>82.280000</td>\n",
              "      <td>85.520000</td>\n",
              "      <td>58.080000</td>\n",
              "      <td>61.240000</td>\n",
              "      <td>65.440000</td>\n",
              "      <td>71.480000</td>\n",
              "      <td>68.600000</td>\n",
              "      <td>74.560000</td>\n",
              "      <td>16.800000</td>\n",
              "      <td>3.240000</td>\n",
              "    </tr>\n",
              "    <tr>\n",
              "      <th>Napoli</th>\n",
              "      <td>203013.520000</td>\n",
              "      <td>17.200000</td>\n",
              "      <td>1.156001e+07</td>\n",
              "      <td>71080.000000</td>\n",
              "      <td>25.920000</td>\n",
              "      <td>80.000000</td>\n",
              "      <td>83.440000</td>\n",
              "      <td>56.040000</td>\n",
              "      <td>59.040000</td>\n",
              "      <td>65.480000</td>\n",
              "      <td>69.000000</td>\n",
              "      <td>70.000000</td>\n",
              "      <td>71.400000</td>\n",
              "      <td>18.000000</td>\n",
              "      <td>3.440000</td>\n",
              "    </tr>\n",
              "    <tr>\n",
              "      <th>Inter</th>\n",
              "      <td>192522.666667</td>\n",
              "      <td>27.583333</td>\n",
              "      <td>4.324390e+06</td>\n",
              "      <td>66500.000000</td>\n",
              "      <td>27.458333</td>\n",
              "      <td>79.750000</td>\n",
              "      <td>81.750000</td>\n",
              "      <td>55.583333</td>\n",
              "      <td>58.041667</td>\n",
              "      <td>63.333333</td>\n",
              "      <td>67.958333</td>\n",
              "      <td>65.791667</td>\n",
              "      <td>72.166667</td>\n",
              "      <td>19.666667</td>\n",
              "      <td>2.000000</td>\n",
              "    </tr>\n",
              "    <tr>\n",
              "      <th>Real Madrid</th>\n",
              "      <td>213881.000000</td>\n",
              "      <td>17.666667</td>\n",
              "      <td>1.377047e+07</td>\n",
              "      <td>152030.303030</td>\n",
              "      <td>24.030303</td>\n",
              "      <td>78.242424</td>\n",
              "      <td>84.636364</td>\n",
              "      <td>54.878788</td>\n",
              "      <td>55.909091</td>\n",
              "      <td>63.303030</td>\n",
              "      <td>69.060606</td>\n",
              "      <td>67.969697</td>\n",
              "      <td>69.696970</td>\n",
              "      <td>18.242424</td>\n",
              "      <td>6.393939</td>\n",
              "    </tr>\n",
              "    <tr>\n",
              "      <th>Milan</th>\n",
              "      <td>199943.666667</td>\n",
              "      <td>23.888889</td>\n",
              "      <td>9.203710e+06</td>\n",
              "      <td>72481.481481</td>\n",
              "      <td>25.000000</td>\n",
              "      <td>78.074074</td>\n",
              "      <td>82.555556</td>\n",
              "      <td>54.629630</td>\n",
              "      <td>56.925926</td>\n",
              "      <td>63.518519</td>\n",
              "      <td>68.333333</td>\n",
              "      <td>68.222222</td>\n",
              "      <td>70.296296</td>\n",
              "      <td>19.148148</td>\n",
              "      <td>4.481481</td>\n",
              "    </tr>\n",
              "  </tbody>\n",
              "</table>\n",
              "</div>"
            ],
            "text/plain": [
              "                        ID  Jersey Number  ...  GoalKeeping  Potential left\n",
              "Club                                       ...                             \n",
              "Juventus     187675.680000      13.720000  ...    16.800000        3.240000\n",
              "Napoli       203013.520000      17.200000  ...    18.000000        3.440000\n",
              "Inter        192522.666667      27.583333  ...    19.666667        2.000000\n",
              "Real Madrid  213881.000000      17.666667  ...    18.242424        6.393939\n",
              "Milan        199943.666667      23.888889  ...    19.148148        4.481481\n",
              "\n",
              "[5 rows x 15 columns]"
            ]
          },
          "metadata": {},
          "execution_count": 43
        }
      ]
    },
    {
      "cell_type": "markdown",
      "metadata": {
        "id": "sGpOyoqskqAX"
      },
      "source": [
        "### Equipos con más costosos (valor comercial)\n",
        "\n",
        "Utiliza funciones de agregación y agrupamiento para encontrar el valor total de de cada club, esto es, la suma de los valores individuales de los jugadores de los Club.\n",
        "\n",
        "Ordena de manera descendente para mostrar los clubs más costosos del mundo."
      ]
    },
    {
      "cell_type": "code",
      "metadata": {
        "id": "bncX7I0jmJ0K",
        "colab": {
          "base_uri": "https://localhost:8080/",
          "height": 234
        },
        "outputId": "7e4735fd-0327-4b2e-a1bc-d6fa901f6e2a"
      },
      "source": [
        "df=fifa_df.groupby(\"Club\").sum().sort_values(\"Value\",ascending=False).head(5)\n",
        "df"
      ],
      "execution_count": 44,
      "outputs": [
        {
          "output_type": "execute_result",
          "data": {
            "text/html": [
              "<div>\n",
              "<style scoped>\n",
              "    .dataframe tbody tr th:only-of-type {\n",
              "        vertical-align: middle;\n",
              "    }\n",
              "\n",
              "    .dataframe tbody tr th {\n",
              "        vertical-align: top;\n",
              "    }\n",
              "\n",
              "    .dataframe thead th {\n",
              "        text-align: right;\n",
              "    }\n",
              "</style>\n",
              "<table border=\"1\" class=\"dataframe\">\n",
              "  <thead>\n",
              "    <tr style=\"text-align: right;\">\n",
              "      <th></th>\n",
              "      <th>ID</th>\n",
              "      <th>Jersey Number</th>\n",
              "      <th>Value</th>\n",
              "      <th>Wage</th>\n",
              "      <th>Age</th>\n",
              "      <th>Overall</th>\n",
              "      <th>Potential</th>\n",
              "      <th>Shooting</th>\n",
              "      <th>Defense</th>\n",
              "      <th>Passing</th>\n",
              "      <th>Physical</th>\n",
              "      <th>Control</th>\n",
              "      <th>Mental</th>\n",
              "      <th>GoalKeeping</th>\n",
              "      <th>Potential left</th>\n",
              "    </tr>\n",
              "    <tr>\n",
              "      <th>Club</th>\n",
              "      <th></th>\n",
              "      <th></th>\n",
              "      <th></th>\n",
              "      <th></th>\n",
              "      <th></th>\n",
              "      <th></th>\n",
              "      <th></th>\n",
              "      <th></th>\n",
              "      <th></th>\n",
              "      <th></th>\n",
              "      <th></th>\n",
              "      <th></th>\n",
              "      <th></th>\n",
              "      <th></th>\n",
              "      <th></th>\n",
              "    </tr>\n",
              "  </thead>\n",
              "  <tbody>\n",
              "    <tr>\n",
              "      <th>Real Madrid</th>\n",
              "      <td>7058073</td>\n",
              "      <td>583.0</td>\n",
              "      <td>454425420.0</td>\n",
              "      <td>5017000.0</td>\n",
              "      <td>793</td>\n",
              "      <td>2582</td>\n",
              "      <td>2793</td>\n",
              "      <td>1811.0</td>\n",
              "      <td>1845.0</td>\n",
              "      <td>2089.0</td>\n",
              "      <td>2279.0</td>\n",
              "      <td>2243.0</td>\n",
              "      <td>2300.0</td>\n",
              "      <td>602.0</td>\n",
              "      <td>211</td>\n",
              "    </tr>\n",
              "    <tr>\n",
              "      <th>Juventus</th>\n",
              "      <td>4691892</td>\n",
              "      <td>343.0</td>\n",
              "      <td>424575279.9</td>\n",
              "      <td>3292000.0</td>\n",
              "      <td>679</td>\n",
              "      <td>2057</td>\n",
              "      <td>2138</td>\n",
              "      <td>1452.0</td>\n",
              "      <td>1531.0</td>\n",
              "      <td>1636.0</td>\n",
              "      <td>1787.0</td>\n",
              "      <td>1715.0</td>\n",
              "      <td>1864.0</td>\n",
              "      <td>420.0</td>\n",
              "      <td>81</td>\n",
              "    </tr>\n",
              "    <tr>\n",
              "      <th>FC Bayern München</th>\n",
              "      <td>5882106</td>\n",
              "      <td>546.0</td>\n",
              "      <td>421225257.8</td>\n",
              "      <td>2286000.0</td>\n",
              "      <td>705</td>\n",
              "      <td>2233</td>\n",
              "      <td>2426</td>\n",
              "      <td>1642.0</td>\n",
              "      <td>1538.0</td>\n",
              "      <td>1847.0</td>\n",
              "      <td>1916.0</td>\n",
              "      <td>1894.0</td>\n",
              "      <td>1996.0</td>\n",
              "      <td>537.0</td>\n",
              "      <td>193</td>\n",
              "    </tr>\n",
              "    <tr>\n",
              "      <th>Manchester City</th>\n",
              "      <td>6826689</td>\n",
              "      <td>1007.0</td>\n",
              "      <td>412855373.7</td>\n",
              "      <td>3741000.0</td>\n",
              "      <td>789</td>\n",
              "      <td>2532</td>\n",
              "      <td>2769</td>\n",
              "      <td>1857.0</td>\n",
              "      <td>1843.0</td>\n",
              "      <td>2162.0</td>\n",
              "      <td>2287.0</td>\n",
              "      <td>2274.0</td>\n",
              "      <td>2310.0</td>\n",
              "      <td>577.0</td>\n",
              "      <td>237</td>\n",
              "    </tr>\n",
              "    <tr>\n",
              "      <th>FC Barcelona</th>\n",
              "      <td>6958946</td>\n",
              "      <td>581.0</td>\n",
              "      <td>411800440.8</td>\n",
              "      <td>4837000.0</td>\n",
              "      <td>787</td>\n",
              "      <td>2575</td>\n",
              "      <td>2815</td>\n",
              "      <td>1861.0</td>\n",
              "      <td>1888.0</td>\n",
              "      <td>2176.0</td>\n",
              "      <td>2244.0</td>\n",
              "      <td>2271.0</td>\n",
              "      <td>2370.0</td>\n",
              "      <td>613.0</td>\n",
              "      <td>240</td>\n",
              "    </tr>\n",
              "  </tbody>\n",
              "</table>\n",
              "</div>"
            ],
            "text/plain": [
              "                        ID  Jersey Number  ...  GoalKeeping  Potential left\n",
              "Club                                       ...                             \n",
              "Real Madrid        7058073          583.0  ...        602.0             211\n",
              "Juventus           4691892          343.0  ...        420.0              81\n",
              "FC Bayern München  5882106          546.0  ...        537.0             193\n",
              "Manchester City    6826689         1007.0  ...        577.0             237\n",
              "FC Barcelona       6958946          581.0  ...        613.0             240\n",
              "\n",
              "[5 rows x 15 columns]"
            ]
          },
          "metadata": {},
          "execution_count": 44
        }
      ]
    },
    {
      "cell_type": "markdown",
      "metadata": {
        "id": "7AthXgs1l8hn"
      },
      "source": [
        "### ¿Qué equipos tienen más mexicanos?\n",
        "\n",
        "Muestra un top 5 de equipos con más jugadores mexicanos en el mundo."
      ]
    },
    {
      "cell_type": "markdown",
      "metadata": {
        "id": "bcyrdPV0p6_0"
      },
      "source": [
        "Primero, crea un dataframe que contiene unicamente jugadores mexicanos:\n",
        "\n",
        "*Tip: Filtra el dataframe usando ```Nationality==Mexico```*."
      ]
    },
    {
      "cell_type": "code",
      "metadata": {
        "id": "3rvkuvn0rKkR",
        "colab": {
          "base_uri": "https://localhost:8080/",
          "height": 391
        },
        "outputId": "8d7f7d43-1a7b-445c-d898-e9c7c180d9f0"
      },
      "source": [
        "players_mx_df = fifa_df[fifa_df[\"Nationality\"]==\"Mexico\"]\n",
        "players_mx_df.head(5)"
      ],
      "execution_count": 45,
      "outputs": [
        {
          "output_type": "execute_result",
          "data": {
            "text/html": [
              "<div>\n",
              "<style scoped>\n",
              "    .dataframe tbody tr th:only-of-type {\n",
              "        vertical-align: middle;\n",
              "    }\n",
              "\n",
              "    .dataframe tbody tr th {\n",
              "        vertical-align: top;\n",
              "    }\n",
              "\n",
              "    .dataframe thead th {\n",
              "        text-align: right;\n",
              "    }\n",
              "</style>\n",
              "<table border=\"1\" class=\"dataframe\">\n",
              "  <thead>\n",
              "    <tr style=\"text-align: right;\">\n",
              "      <th></th>\n",
              "      <th>ID</th>\n",
              "      <th>Name</th>\n",
              "      <th>Nationality</th>\n",
              "      <th>Club</th>\n",
              "      <th>Jersey Number</th>\n",
              "      <th>Value</th>\n",
              "      <th>Wage</th>\n",
              "      <th>Age</th>\n",
              "      <th>Height</th>\n",
              "      <th>Weight</th>\n",
              "      <th>Preferred Foot</th>\n",
              "      <th>Position</th>\n",
              "      <th>Overall</th>\n",
              "      <th>Potential</th>\n",
              "      <th>Shooting</th>\n",
              "      <th>Defense</th>\n",
              "      <th>Passing</th>\n",
              "      <th>Physical</th>\n",
              "      <th>Control</th>\n",
              "      <th>Mental</th>\n",
              "      <th>GoalKeeping</th>\n",
              "      <th>Potential left</th>\n",
              "    </tr>\n",
              "  </thead>\n",
              "  <tbody>\n",
              "    <tr>\n",
              "      <th>306</th>\n",
              "      <td>171897</td>\n",
              "      <td>A. Guardado</td>\n",
              "      <td>Mexico</td>\n",
              "      <td>Real Betis</td>\n",
              "      <td>18.0</td>\n",
              "      <td>19000000.0</td>\n",
              "      <td>35000.0</td>\n",
              "      <td>31</td>\n",
              "      <td>5'7</td>\n",
              "      <td>148lbs</td>\n",
              "      <td>Left</td>\n",
              "      <td>Central Midfield (CM)</td>\n",
              "      <td>82</td>\n",
              "      <td>82</td>\n",
              "      <td>70.0</td>\n",
              "      <td>73.0</td>\n",
              "      <td>80.0</td>\n",
              "      <td>76.0</td>\n",
              "      <td>84.0</td>\n",
              "      <td>80.0</td>\n",
              "      <td>10.0</td>\n",
              "      <td>0</td>\n",
              "    </tr>\n",
              "    <tr>\n",
              "      <th>329</th>\n",
              "      <td>221992</td>\n",
              "      <td>H. Lozano</td>\n",
              "      <td>Mexico</td>\n",
              "      <td>PSV</td>\n",
              "      <td>22.0</td>\n",
              "      <td>24000000.0</td>\n",
              "      <td>22000.0</td>\n",
              "      <td>22</td>\n",
              "      <td>5'9</td>\n",
              "      <td>154lbs</td>\n",
              "      <td>Right</td>\n",
              "      <td>Left Side (LS)</td>\n",
              "      <td>81</td>\n",
              "      <td>86</td>\n",
              "      <td>71.0</td>\n",
              "      <td>46.0</td>\n",
              "      <td>72.0</td>\n",
              "      <td>81.0</td>\n",
              "      <td>80.0</td>\n",
              "      <td>76.0</td>\n",
              "      <td>12.0</td>\n",
              "      <td>5</td>\n",
              "    </tr>\n",
              "    <tr>\n",
              "      <th>371</th>\n",
              "      <td>193165</td>\n",
              "      <td>J. Corona</td>\n",
              "      <td>Mexico</td>\n",
              "      <td>FC Porto</td>\n",
              "      <td>17.0</td>\n",
              "      <td>21.5</td>\n",
              "      <td>18000.0</td>\n",
              "      <td>25</td>\n",
              "      <td>5'8</td>\n",
              "      <td>137lbs</td>\n",
              "      <td>Right</td>\n",
              "      <td>Right Midfielder (RM)</td>\n",
              "      <td>81</td>\n",
              "      <td>83</td>\n",
              "      <td>71.0</td>\n",
              "      <td>50.0</td>\n",
              "      <td>72.0</td>\n",
              "      <td>75.0</td>\n",
              "      <td>87.0</td>\n",
              "      <td>81.0</td>\n",
              "      <td>10.0</td>\n",
              "      <td>2</td>\n",
              "    </tr>\n",
              "    <tr>\n",
              "      <th>397</th>\n",
              "      <td>169416</td>\n",
              "      <td>C. Vela</td>\n",
              "      <td>Mexico</td>\n",
              "      <td>Los Angeles FC</td>\n",
              "      <td>10.0</td>\n",
              "      <td>17.5</td>\n",
              "      <td>15000.0</td>\n",
              "      <td>29</td>\n",
              "      <td>5'10</td>\n",
              "      <td>170lbs</td>\n",
              "      <td>Left</td>\n",
              "      <td>Right Wing (RW)</td>\n",
              "      <td>81</td>\n",
              "      <td>81</td>\n",
              "      <td>76.0</td>\n",
              "      <td>37.0</td>\n",
              "      <td>75.0</td>\n",
              "      <td>76.0</td>\n",
              "      <td>82.0</td>\n",
              "      <td>80.0</td>\n",
              "      <td>11.0</td>\n",
              "      <td>0</td>\n",
              "    </tr>\n",
              "    <tr>\n",
              "      <th>406</th>\n",
              "      <td>156519</td>\n",
              "      <td>H. Herrera</td>\n",
              "      <td>Mexico</td>\n",
              "      <td>FC Porto</td>\n",
              "      <td>16.0</td>\n",
              "      <td>17.5</td>\n",
              "      <td>20000.0</td>\n",
              "      <td>28</td>\n",
              "      <td>6'0</td>\n",
              "      <td>159lbs</td>\n",
              "      <td>Right</td>\n",
              "      <td>Central Midfield (CM)</td>\n",
              "      <td>81</td>\n",
              "      <td>81</td>\n",
              "      <td>67.0</td>\n",
              "      <td>78.0</td>\n",
              "      <td>72.0</td>\n",
              "      <td>73.0</td>\n",
              "      <td>75.0</td>\n",
              "      <td>77.0</td>\n",
              "      <td>11.0</td>\n",
              "      <td>0</td>\n",
              "    </tr>\n",
              "  </tbody>\n",
              "</table>\n",
              "</div>"
            ],
            "text/plain": [
              "         ID         Name Nationality  ... Mental  GoalKeeping  Potential left\n",
              "306  171897  A. Guardado      Mexico  ...   80.0         10.0               0\n",
              "329  221992    H. Lozano      Mexico  ...   76.0         12.0               5\n",
              "371  193165    J. Corona      Mexico  ...   81.0         10.0               2\n",
              "397  169416      C. Vela      Mexico  ...   80.0         11.0               0\n",
              "406  156519   H. Herrera      Mexico  ...   77.0         11.0               0\n",
              "\n",
              "[5 rows x 22 columns]"
            ]
          },
          "metadata": {},
          "execution_count": 45
        }
      ]
    },
    {
      "cell_type": "markdown",
      "metadata": {
        "id": "GOeknoZwpxSQ"
      },
      "source": [
        "Agrupa por el nombre del club y cuenta:"
      ]
    },
    {
      "cell_type": "code",
      "metadata": {
        "id": "1RN0-mwMJVXI",
        "colab": {
          "base_uri": "https://localhost:8080/",
          "height": 509
        },
        "outputId": "af2fca1f-8409-4d5b-d5e4-3069f295f65d"
      },
      "source": [
        "test = players_mx_df.groupby(\"Club\").count()\n",
        "test.sort_values(\"Name\", ascending=False).head(10)\n"
      ],
      "execution_count": 46,
      "outputs": [
        {
          "output_type": "execute_result",
          "data": {
            "text/html": [
              "<div>\n",
              "<style scoped>\n",
              "    .dataframe tbody tr th:only-of-type {\n",
              "        vertical-align: middle;\n",
              "    }\n",
              "\n",
              "    .dataframe tbody tr th {\n",
              "        vertical-align: top;\n",
              "    }\n",
              "\n",
              "    .dataframe thead th {\n",
              "        text-align: right;\n",
              "    }\n",
              "</style>\n",
              "<table border=\"1\" class=\"dataframe\">\n",
              "  <thead>\n",
              "    <tr style=\"text-align: right;\">\n",
              "      <th></th>\n",
              "      <th>ID</th>\n",
              "      <th>Name</th>\n",
              "      <th>Nationality</th>\n",
              "      <th>Jersey Number</th>\n",
              "      <th>Value</th>\n",
              "      <th>Wage</th>\n",
              "      <th>Age</th>\n",
              "      <th>Height</th>\n",
              "      <th>Weight</th>\n",
              "      <th>Preferred Foot</th>\n",
              "      <th>Position</th>\n",
              "      <th>Overall</th>\n",
              "      <th>Potential</th>\n",
              "      <th>Shooting</th>\n",
              "      <th>Defense</th>\n",
              "      <th>Passing</th>\n",
              "      <th>Physical</th>\n",
              "      <th>Control</th>\n",
              "      <th>Mental</th>\n",
              "      <th>GoalKeeping</th>\n",
              "      <th>Potential left</th>\n",
              "    </tr>\n",
              "    <tr>\n",
              "      <th>Club</th>\n",
              "      <th></th>\n",
              "      <th></th>\n",
              "      <th></th>\n",
              "      <th></th>\n",
              "      <th></th>\n",
              "      <th></th>\n",
              "      <th></th>\n",
              "      <th></th>\n",
              "      <th></th>\n",
              "      <th></th>\n",
              "      <th></th>\n",
              "      <th></th>\n",
              "      <th></th>\n",
              "      <th></th>\n",
              "      <th></th>\n",
              "      <th></th>\n",
              "      <th></th>\n",
              "      <th></th>\n",
              "      <th></th>\n",
              "      <th></th>\n",
              "      <th></th>\n",
              "    </tr>\n",
              "  </thead>\n",
              "  <tbody>\n",
              "    <tr>\n",
              "      <th>Guadalajara</th>\n",
              "      <td>29</td>\n",
              "      <td>29</td>\n",
              "      <td>29</td>\n",
              "      <td>29</td>\n",
              "      <td>29</td>\n",
              "      <td>29</td>\n",
              "      <td>29</td>\n",
              "      <td>29</td>\n",
              "      <td>29</td>\n",
              "      <td>29</td>\n",
              "      <td>29</td>\n",
              "      <td>29</td>\n",
              "      <td>29</td>\n",
              "      <td>29</td>\n",
              "      <td>29</td>\n",
              "      <td>29</td>\n",
              "      <td>29</td>\n",
              "      <td>29</td>\n",
              "      <td>29</td>\n",
              "      <td>29</td>\n",
              "      <td>29</td>\n",
              "    </tr>\n",
              "    <tr>\n",
              "      <th>U.N.A.M.</th>\n",
              "      <td>21</td>\n",
              "      <td>21</td>\n",
              "      <td>21</td>\n",
              "      <td>21</td>\n",
              "      <td>21</td>\n",
              "      <td>21</td>\n",
              "      <td>21</td>\n",
              "      <td>21</td>\n",
              "      <td>21</td>\n",
              "      <td>21</td>\n",
              "      <td>21</td>\n",
              "      <td>21</td>\n",
              "      <td>21</td>\n",
              "      <td>21</td>\n",
              "      <td>21</td>\n",
              "      <td>21</td>\n",
              "      <td>21</td>\n",
              "      <td>21</td>\n",
              "      <td>21</td>\n",
              "      <td>21</td>\n",
              "      <td>21</td>\n",
              "    </tr>\n",
              "    <tr>\n",
              "      <th>Club Atlas</th>\n",
              "      <td>20</td>\n",
              "      <td>20</td>\n",
              "      <td>20</td>\n",
              "      <td>20</td>\n",
              "      <td>20</td>\n",
              "      <td>20</td>\n",
              "      <td>20</td>\n",
              "      <td>20</td>\n",
              "      <td>20</td>\n",
              "      <td>20</td>\n",
              "      <td>20</td>\n",
              "      <td>20</td>\n",
              "      <td>20</td>\n",
              "      <td>20</td>\n",
              "      <td>20</td>\n",
              "      <td>20</td>\n",
              "      <td>20</td>\n",
              "      <td>20</td>\n",
              "      <td>20</td>\n",
              "      <td>20</td>\n",
              "      <td>20</td>\n",
              "    </tr>\n",
              "    <tr>\n",
              "      <th>Club Necaxa</th>\n",
              "      <td>20</td>\n",
              "      <td>20</td>\n",
              "      <td>20</td>\n",
              "      <td>20</td>\n",
              "      <td>20</td>\n",
              "      <td>20</td>\n",
              "      <td>20</td>\n",
              "      <td>20</td>\n",
              "      <td>20</td>\n",
              "      <td>20</td>\n",
              "      <td>20</td>\n",
              "      <td>20</td>\n",
              "      <td>20</td>\n",
              "      <td>20</td>\n",
              "      <td>20</td>\n",
              "      <td>20</td>\n",
              "      <td>20</td>\n",
              "      <td>20</td>\n",
              "      <td>20</td>\n",
              "      <td>20</td>\n",
              "      <td>20</td>\n",
              "    </tr>\n",
              "    <tr>\n",
              "      <th>Querétaro</th>\n",
              "      <td>19</td>\n",
              "      <td>19</td>\n",
              "      <td>19</td>\n",
              "      <td>19</td>\n",
              "      <td>19</td>\n",
              "      <td>19</td>\n",
              "      <td>19</td>\n",
              "      <td>19</td>\n",
              "      <td>19</td>\n",
              "      <td>19</td>\n",
              "      <td>19</td>\n",
              "      <td>19</td>\n",
              "      <td>19</td>\n",
              "      <td>19</td>\n",
              "      <td>19</td>\n",
              "      <td>19</td>\n",
              "      <td>19</td>\n",
              "      <td>19</td>\n",
              "      <td>19</td>\n",
              "      <td>19</td>\n",
              "      <td>19</td>\n",
              "    </tr>\n",
              "    <tr>\n",
              "      <th>Tigres U.A.N.L.</th>\n",
              "      <td>19</td>\n",
              "      <td>19</td>\n",
              "      <td>19</td>\n",
              "      <td>19</td>\n",
              "      <td>19</td>\n",
              "      <td>19</td>\n",
              "      <td>19</td>\n",
              "      <td>19</td>\n",
              "      <td>19</td>\n",
              "      <td>19</td>\n",
              "      <td>19</td>\n",
              "      <td>19</td>\n",
              "      <td>19</td>\n",
              "      <td>19</td>\n",
              "      <td>19</td>\n",
              "      <td>19</td>\n",
              "      <td>19</td>\n",
              "      <td>19</td>\n",
              "      <td>19</td>\n",
              "      <td>19</td>\n",
              "      <td>19</td>\n",
              "    </tr>\n",
              "    <tr>\n",
              "      <th>Tiburones Rojos de Veracruz</th>\n",
              "      <td>18</td>\n",
              "      <td>18</td>\n",
              "      <td>18</td>\n",
              "      <td>18</td>\n",
              "      <td>18</td>\n",
              "      <td>18</td>\n",
              "      <td>18</td>\n",
              "      <td>18</td>\n",
              "      <td>18</td>\n",
              "      <td>18</td>\n",
              "      <td>18</td>\n",
              "      <td>18</td>\n",
              "      <td>18</td>\n",
              "      <td>18</td>\n",
              "      <td>18</td>\n",
              "      <td>18</td>\n",
              "      <td>18</td>\n",
              "      <td>18</td>\n",
              "      <td>18</td>\n",
              "      <td>18</td>\n",
              "      <td>18</td>\n",
              "    </tr>\n",
              "    <tr>\n",
              "      <th>Club América</th>\n",
              "      <td>18</td>\n",
              "      <td>18</td>\n",
              "      <td>18</td>\n",
              "      <td>18</td>\n",
              "      <td>18</td>\n",
              "      <td>18</td>\n",
              "      <td>18</td>\n",
              "      <td>18</td>\n",
              "      <td>18</td>\n",
              "      <td>18</td>\n",
              "      <td>18</td>\n",
              "      <td>18</td>\n",
              "      <td>18</td>\n",
              "      <td>18</td>\n",
              "      <td>18</td>\n",
              "      <td>18</td>\n",
              "      <td>18</td>\n",
              "      <td>18</td>\n",
              "      <td>18</td>\n",
              "      <td>18</td>\n",
              "      <td>18</td>\n",
              "    </tr>\n",
              "    <tr>\n",
              "      <th>Club León</th>\n",
              "      <td>18</td>\n",
              "      <td>18</td>\n",
              "      <td>18</td>\n",
              "      <td>18</td>\n",
              "      <td>18</td>\n",
              "      <td>18</td>\n",
              "      <td>18</td>\n",
              "      <td>18</td>\n",
              "      <td>18</td>\n",
              "      <td>18</td>\n",
              "      <td>18</td>\n",
              "      <td>18</td>\n",
              "      <td>18</td>\n",
              "      <td>18</td>\n",
              "      <td>18</td>\n",
              "      <td>18</td>\n",
              "      <td>18</td>\n",
              "      <td>18</td>\n",
              "      <td>18</td>\n",
              "      <td>18</td>\n",
              "      <td>18</td>\n",
              "    </tr>\n",
              "    <tr>\n",
              "      <th>Puebla FC</th>\n",
              "      <td>18</td>\n",
              "      <td>18</td>\n",
              "      <td>18</td>\n",
              "      <td>18</td>\n",
              "      <td>18</td>\n",
              "      <td>18</td>\n",
              "      <td>18</td>\n",
              "      <td>18</td>\n",
              "      <td>18</td>\n",
              "      <td>18</td>\n",
              "      <td>18</td>\n",
              "      <td>18</td>\n",
              "      <td>18</td>\n",
              "      <td>18</td>\n",
              "      <td>18</td>\n",
              "      <td>18</td>\n",
              "      <td>18</td>\n",
              "      <td>18</td>\n",
              "      <td>18</td>\n",
              "      <td>18</td>\n",
              "      <td>18</td>\n",
              "    </tr>\n",
              "  </tbody>\n",
              "</table>\n",
              "</div>"
            ],
            "text/plain": [
              "                             ID  Name  ...  GoalKeeping  Potential left\n",
              "Club                                   ...                             \n",
              "Guadalajara                  29    29  ...           29              29\n",
              "U.N.A.M.                     21    21  ...           21              21\n",
              "Club Atlas                   20    20  ...           20              20\n",
              "Club Necaxa                  20    20  ...           20              20\n",
              "Querétaro                    19    19  ...           19              19\n",
              "Tigres U.A.N.L.              19    19  ...           19              19\n",
              "Tiburones Rojos de Veracruz  18    18  ...           18              18\n",
              "Club América                 18    18  ...           18              18\n",
              "Club León                    18    18  ...           18              18\n",
              "Puebla FC                    18    18  ...           18              18\n",
              "\n",
              "[10 rows x 21 columns]"
            ]
          },
          "metadata": {},
          "execution_count": 46
        }
      ]
    },
    {
      "cell_type": "markdown",
      "metadata": {
        "id": "f5Vi_hQCbyDL"
      },
      "source": [
        "## Visualización\n",
        "\n",
        "Utiliza las opciones de visualización de Pandas."
      ]
    },
    {
      "cell_type": "markdown",
      "metadata": {
        "id": "gIE5S2l6kQaL"
      },
      "source": [
        "### Histograma de las edades de los jugadores de futbol\n",
        "\n",
        "Selecciona la columna ``Age``` del dataframe ```fifa_df``` y muestra el histograma usando las opciones de visualización de Pandas:"
      ]
    },
    {
      "cell_type": "code",
      "metadata": {
        "id": "6zlGLD6Yb8XQ",
        "colab": {
          "base_uri": "https://localhost:8080/",
          "height": 282
        },
        "outputId": "5970128a-e621-4e71-c05c-2cc202b9dd8e"
      },
      "source": [
        "fifa_df[\"Age\"].plot.hist(bins=50)\n"
      ],
      "execution_count": 47,
      "outputs": [
        {
          "output_type": "execute_result",
          "data": {
            "text/plain": [
              "<matplotlib.axes._subplots.AxesSubplot at 0x7fe399b44a50>"
            ]
          },
          "metadata": {},
          "execution_count": 47
        },
        {
          "output_type": "display_data",
          "data": {
            "image/png": "[encoded data removed]",
            "text/plain": [
              "<Figure size 432x288 with 1 Axes>"
            ]
          },
          "metadata": {
            "needs_background": "light"
          }
        }
      ]
    },
    {
      "cell_type": "markdown",
      "metadata": {
        "id": "K-ZhgvfWR_rT"
      },
      "source": [
        "### Gráfica de Pie (Preferred Foot)\n",
        "\n",
        "Selecciónes el conteo de valores del pie preferido (columna ```Preferred Foot```) y muestra la información mediante una gráfica de Pie:"
      ]
    },
    {
      "cell_type": "code",
      "metadata": {
        "id": "wT4II3U_R_51",
        "colab": {
          "base_uri": "https://localhost:8080/",
          "height": 265
        },
        "outputId": "468432cc-8b92-4e84-daed-da9311693535"
      },
      "source": [
        "\n",
        "fifa_df[\"Preferred Foot\"].value_counts().plot.pie()"
      ],
      "execution_count": 50,
      "outputs": [
        {
          "output_type": "execute_result",
          "data": {
            "text/plain": [
              "<matplotlib.axes._subplots.AxesSubplot at 0x7fe3993b2690>"
            ]
          },
          "metadata": {},
          "execution_count": 50
        },
        {
          "output_type": "display_data",
          "data": {
            "image/png": "[encoded data removed]",
            "text/plain": [
              "<Figure size 432x288 with 1 Axes>"
            ]
          },
          "metadata": {}
        }
      ]
    },
    {
      "cell_type": "markdown",
      "metadata": {
        "id": "88Quw6tnb88P"
      },
      "source": [
        "### Gráfica de dispersión Edad vs Potential left\n",
        "\n",
        "Ahora, utiliza una gráfica de dispersión para visualizar el comportamiento del potencial por alcanzar (```Potential left```) de acuerdo a las edades de los jugadores:\n",
        "\n",
        "*Tip: La gráfica debe mostrar la edad en un eje y el potencial por alcanzar en el otro.*"
      ]
    },
    {
      "cell_type": "code",
      "metadata": {
        "id": "A8oJxUi5kc8B",
        "colab": {
          "base_uri": "https://localhost:8080/",
          "height": 296
        },
        "outputId": "544b19b7-04fc-47e9-fb69-a2891296b771"
      },
      "source": [
        "fifa_df.plot.scatter(\"Age\",\"Potential left\")\n"
      ],
      "execution_count": 51,
      "outputs": [
        {
          "output_type": "execute_result",
          "data": {
            "text/plain": [
              "<matplotlib.axes._subplots.AxesSubplot at 0x7fe399363490>"
            ]
          },
          "metadata": {},
          "execution_count": 51
        },
        {
          "output_type": "display_data",
          "data": {
            "image/png": "[encoded data removed]",
            "text/plain": [
              "<Figure size 432x288 with 1 Axes>"
            ]
          },
          "metadata": {
            "needs_background": "light"
          }
        }
      ]
    },
    {
      "cell_type": "markdown",
      "metadata": {
        "id": "SSr_il5HRx5A"
      },
      "source": [
        "¿Qué otras variables o mezcla de variables sería interesante visualizar?"
      ]
    },
    {
      "cell_type": "markdown",
      "metadata": {
        "id": "8NCzkort1t2j"
      },
      "source": [
        "# Desafío Adicional (Puntos Extras acumulables)\n",
        "\n",
        "En la práctica con Numpy, creaste un modelo para identificar imágenes de dígitos escritos a mano. \n",
        "\n",
        "Para este nuevo conjunto de datos, ¿podrías usar una metodología similar para encontrar la posición en el campo de un jugador solamente usando los valores de su habilidades? \n",
        "\n",
        "Skills: ```Shooting \tDefense \tPassing \tPhysical \tControl \tMental \tGoalKeeping```"
      ]
    },
    {
      "cell_type": "code",
      "metadata": {
        "id": "HTOqsnGF1u7E"
      },
      "source": [
        ""
      ],
      "execution_count": null,
      "outputs": []
    }
  ]
}